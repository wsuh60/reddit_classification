{
 "cells": [
  {
   "cell_type": "markdown",
   "metadata": {},
   "source": [
    "## NLP\n",
    "\n",
    "#### Use `CountVectorizer` or `TfidfVectorizer` from scikit-learn to create features from the thread titles and descriptions (NOTE: Not all threads have a description)\n",
    "- Examine using count or binary features in the model\n",
    "- Re-evaluate your models using these. Does this improve the model performance? \n",
    "- What text features are the most valuable? "
   ]
  },
  {
   "cell_type": "code",
   "execution_count": 22,
   "metadata": {},
   "outputs": [],
   "source": [
    "import pandas as pd\n",
    "import numpy as np\n",
    "import seaborn as sns\n",
    "import matplotlib.pyplot as plt\n",
    "import re\n",
    "\n",
    "from sklearn.model_selection import GridSearchCV, train_test_split\n",
    "from sklearn.feature_extraction.text import CountVectorizer\n",
    "from sklearn.ensemble import RandomForestClassifier\n",
    "from nltk.corpus import stopwords\n",
    "from bs4 import BeautifulSoup\n",
    "import requests\n",
    "\n"
   ]
  },
  {
   "cell_type": "code",
   "execution_count": 2,
   "metadata": {},
   "outputs": [],
   "source": [
    "aml_df = pd.read_csv('./ml')\n",
    "finance_df = pd.read_csv('./personalfinance')"
   ]
  },
  {
   "cell_type": "code",
   "execution_count": 3,
   "metadata": {
    "scrolled": true
   },
   "outputs": [
    {
     "data": {
      "text/plain": [
       "Unnamed: 0      0\n",
       "post          838\n",
       "title           0\n",
       "true_y          0\n",
       "dtype: int64"
      ]
     },
     "execution_count": 3,
     "metadata": {},
     "output_type": "execute_result"
    }
   ],
   "source": [
    "aml_df.isnull().sum()"
   ]
  },
  {
   "cell_type": "code",
   "execution_count": 4,
   "metadata": {},
   "outputs": [],
   "source": [
    "aml_df = aml_df.replace(np.nan, '')"
   ]
  },
  {
   "cell_type": "code",
   "execution_count": 5,
   "metadata": {},
   "outputs": [
    {
     "data": {
      "text/plain": [
       "Unnamed: 0    0\n",
       "post          0\n",
       "title         0\n",
       "true_y        0\n",
       "dtype: int64"
      ]
     },
     "execution_count": 5,
     "metadata": {},
     "output_type": "execute_result"
    }
   ],
   "source": [
    "aml_df.isnull().sum()"
   ]
  },
  {
   "cell_type": "code",
   "execution_count": 6,
   "metadata": {},
   "outputs": [],
   "source": [
    "del aml_df['Unnamed: 0']"
   ]
  },
  {
   "cell_type": "code",
   "execution_count": 7,
   "metadata": {},
   "outputs": [
    {
     "data": {
      "text/html": [
       "<div>\n",
       "<style scoped>\n",
       "    .dataframe tbody tr th:only-of-type {\n",
       "        vertical-align: middle;\n",
       "    }\n",
       "\n",
       "    .dataframe tbody tr th {\n",
       "        vertical-align: top;\n",
       "    }\n",
       "\n",
       "    .dataframe thead th {\n",
       "        text-align: right;\n",
       "    }\n",
       "</style>\n",
       "<table border=\"1\" class=\"dataframe\">\n",
       "  <thead>\n",
       "    <tr style=\"text-align: right;\">\n",
       "      <th></th>\n",
       "      <th>post</th>\n",
       "      <th>title</th>\n",
       "      <th>true_y</th>\n",
       "    </tr>\n",
       "  </thead>\n",
       "  <tbody>\n",
       "    <tr>\n",
       "      <th>0</th>\n",
       "      <td>Hey everyone, I just took the Cams test earlie...</td>\n",
       "      <td>Passed my CAMS!</td>\n",
       "      <td>r/moneylaundering</td>\n",
       "    </tr>\n",
       "    <tr>\n",
       "      <th>1</th>\n",
       "      <td>Looking forward to going into the AML route. P...</td>\n",
       "      <td>ACAMS 2nd edition study guide</td>\n",
       "      <td>r/moneylaundering</td>\n",
       "    </tr>\n",
       "    <tr>\n",
       "      <th>2</th>\n",
       "      <td>Can anyone pls share with me good websites for...</td>\n",
       "      <td>Sample questions bank for cams</td>\n",
       "      <td>r/moneylaundering</td>\n",
       "    </tr>\n",
       "    <tr>\n",
       "      <th>3</th>\n",
       "      <td>Whether there is any negative marking for cams...</td>\n",
       "      <td>Cams certification</td>\n",
       "      <td>r/moneylaundering</td>\n",
       "    </tr>\n",
       "    <tr>\n",
       "      <th>4</th>\n",
       "      <td></td>\n",
       "      <td>BSA Data and SARS Value Emphasized by FinCEN D...</td>\n",
       "      <td>r/moneylaundering</td>\n",
       "    </tr>\n",
       "  </tbody>\n",
       "</table>\n",
       "</div>"
      ],
      "text/plain": [
       "                                                post  \\\n",
       "0  Hey everyone, I just took the Cams test earlie...   \n",
       "1  Looking forward to going into the AML route. P...   \n",
       "2  Can anyone pls share with me good websites for...   \n",
       "3  Whether there is any negative marking for cams...   \n",
       "4                                                      \n",
       "\n",
       "                                               title             true_y  \n",
       "0                                    Passed my CAMS!  r/moneylaundering  \n",
       "1                      ACAMS 2nd edition study guide  r/moneylaundering  \n",
       "2                     Sample questions bank for cams  r/moneylaundering  \n",
       "3                                 Cams certification  r/moneylaundering  \n",
       "4  BSA Data and SARS Value Emphasized by FinCEN D...  r/moneylaundering  "
      ]
     },
     "execution_count": 7,
     "metadata": {},
     "output_type": "execute_result"
    }
   ],
   "source": [
    "aml_df.head()"
   ]
  },
  {
   "cell_type": "code",
   "execution_count": 8,
   "metadata": {},
   "outputs": [
    {
     "data": {
      "text/plain": [
       "Unnamed: 0    0\n",
       "post          8\n",
       "title         0\n",
       "true_y        0\n",
       "dtype: int64"
      ]
     },
     "execution_count": 8,
     "metadata": {},
     "output_type": "execute_result"
    }
   ],
   "source": [
    "finance_df.isnull().sum()"
   ]
  },
  {
   "cell_type": "code",
   "execution_count": 9,
   "metadata": {},
   "outputs": [],
   "source": [
    "del finance_df['Unnamed: 0']"
   ]
  },
  {
   "cell_type": "code",
   "execution_count": 10,
   "metadata": {},
   "outputs": [],
   "source": [
    "finance_df = finance_df.dropna()"
   ]
  },
  {
   "cell_type": "code",
   "execution_count": 11,
   "metadata": {},
   "outputs": [],
   "source": [
    "concat_df = pd.concat([finance_df, aml_df], axis = 0, ignore_index= True)"
   ]
  },
  {
   "cell_type": "code",
   "execution_count": 12,
   "metadata": {},
   "outputs": [
    {
     "data": {
      "text/html": [
       "<div>\n",
       "<style scoped>\n",
       "    .dataframe tbody tr th:only-of-type {\n",
       "        vertical-align: middle;\n",
       "    }\n",
       "\n",
       "    .dataframe tbody tr th {\n",
       "        vertical-align: top;\n",
       "    }\n",
       "\n",
       "    .dataframe thead th {\n",
       "        text-align: right;\n",
       "    }\n",
       "</style>\n",
       "<table border=\"1\" class=\"dataframe\">\n",
       "  <thead>\n",
       "    <tr style=\"text-align: right;\">\n",
       "      <th></th>\n",
       "      <th>post</th>\n",
       "      <th>title</th>\n",
       "      <th>true_y</th>\n",
       "    </tr>\n",
       "  </thead>\n",
       "  <tbody>\n",
       "    <tr>\n",
       "      <th>0</th>\n",
       "      <td># 30-day challenges\\n\\nWe are pleased to conti...</td>\n",
       "      <td>30-Day Challenge #8: Cook more often! (August,...</td>\n",
       "      <td>r/personalfinance</td>\n",
       "    </tr>\n",
       "    <tr>\n",
       "      <th>1</th>\n",
       "      <td>\\n### If you need help, please check the [PF W...</td>\n",
       "      <td>Weekday Help Thread for the week of August 27,...</td>\n",
       "      <td>r/personalfinance</td>\n",
       "    </tr>\n",
       "    <tr>\n",
       "      <th>2</th>\n",
       "      <td>I sold a gaming computer on ebay and the buyer...</td>\n",
       "      <td>[US] Paypal account balance is -$2000. What ca...</td>\n",
       "      <td>r/personalfinance</td>\n",
       "    </tr>\n",
       "    <tr>\n",
       "      <th>3</th>\n",
       "      <td>Hi all. 5 year lurker on reddit here. Like the...</td>\n",
       "      <td>27 YO in £7000 debt and can’t seem to make any...</td>\n",
       "      <td>r/personalfinance</td>\n",
       "    </tr>\n",
       "    <tr>\n",
       "      <th>4</th>\n",
       "      <td>My fiancé borrowed $10,000 from One Main and u...</td>\n",
       "      <td>Fiancé used his vehicle for a loan. He has bad...</td>\n",
       "      <td>r/personalfinance</td>\n",
       "    </tr>\n",
       "  </tbody>\n",
       "</table>\n",
       "</div>"
      ],
      "text/plain": [
       "                                                post  \\\n",
       "0  # 30-day challenges\\n\\nWe are pleased to conti...   \n",
       "1  \\n### If you need help, please check the [PF W...   \n",
       "2  I sold a gaming computer on ebay and the buyer...   \n",
       "3  Hi all. 5 year lurker on reddit here. Like the...   \n",
       "4  My fiancé borrowed $10,000 from One Main and u...   \n",
       "\n",
       "                                               title             true_y  \n",
       "0  30-Day Challenge #8: Cook more often! (August,...  r/personalfinance  \n",
       "1  Weekday Help Thread for the week of August 27,...  r/personalfinance  \n",
       "2  [US] Paypal account balance is -$2000. What ca...  r/personalfinance  \n",
       "3  27 YO in £7000 debt and can’t seem to make any...  r/personalfinance  \n",
       "4  Fiancé used his vehicle for a loan. He has bad...  r/personalfinance  "
      ]
     },
     "execution_count": 12,
     "metadata": {},
     "output_type": "execute_result"
    }
   ],
   "source": [
    "concat_df.head()"
   ]
  },
  {
   "cell_type": "code",
   "execution_count": 13,
   "metadata": {},
   "outputs": [],
   "source": [
    "# clean post, title, and true_y (HTML ARTIFACTS)\n",
    "\n",
    "artifact = ['\\n\\n', '\\n', '\\t', '#', r'r/', 'https://', 'www.', 'http://', 'reddit.com', 'wiki',\n",
    "            '.', ',', '-',';','\"', ':', \"[\", \"[\", \"(\", \")\", '[/', '/', '?', \"'\", '*', '$', '&']\n",
    "\n",
    "for i in artifact:\n",
    "    concat_df['post'] = concat_df['post'].map(lambda x: x.replace(i, ''))\n",
    "    concat_df['title'] = concat_df['title'].map(lambda x: x.replace(i, ''))\n",
    "    concat_df['true_y'] = concat_df['true_y'].map(lambda x: x.replace(i, ''))"
   ]
  },
  {
   "cell_type": "code",
   "execution_count": 14,
   "metadata": {},
   "outputs": [],
   "source": [
    "concat_df['interact'] = concat_df['post'] + concat_df['title']\n",
    "\n",
    "# Since moneylaundering has 800+ missing threads,\n",
    "# I decided to create an interact feature that combines threads with titles."
   ]
  },
  {
   "cell_type": "code",
   "execution_count": 15,
   "metadata": {},
   "outputs": [],
   "source": [
    "# clean stop words:\n",
    "\n",
    "from nltk.corpus import stopwords\n",
    "stop = stopwords.words('english')\n",
    "\n",
    "concat_df['interact'] = concat_df['interact'].apply(lambda x: ' '.join([word for word in x.split(' ') if word not in (stop)]))"
   ]
  },
  {
   "cell_type": "code",
   "execution_count": 16,
   "metadata": {},
   "outputs": [
    {
     "data": {
      "text/html": [
       "<div>\n",
       "<style scoped>\n",
       "    .dataframe tbody tr th:only-of-type {\n",
       "        vertical-align: middle;\n",
       "    }\n",
       "\n",
       "    .dataframe tbody tr th {\n",
       "        vertical-align: top;\n",
       "    }\n",
       "\n",
       "    .dataframe thead th {\n",
       "        text-align: right;\n",
       "    }\n",
       "</style>\n",
       "<table border=\"1\" class=\"dataframe\">\n",
       "  <thead>\n",
       "    <tr style=\"text-align: right;\">\n",
       "      <th></th>\n",
       "      <th>post</th>\n",
       "      <th>title</th>\n",
       "      <th>true_y</th>\n",
       "      <th>interact</th>\n",
       "    </tr>\n",
       "  </thead>\n",
       "  <tbody>\n",
       "    <tr>\n",
       "      <th>0</th>\n",
       "      <td>30day challengesWe are pleased to continue ou...</td>\n",
       "      <td>30Day Challenge 8 Cook more often! August 2018</td>\n",
       "      <td>personalfinance</td>\n",
       "      <td>30day challengesWe pleased continue 30day cha...</td>\n",
       "    </tr>\n",
       "    <tr>\n",
       "      <th>1</th>\n",
       "      <td>If you need help please check the PF Wiki]per...</td>\n",
       "      <td>Weekday Help Thread for the week of August 27 ...</td>\n",
       "      <td>personalfinance</td>\n",
       "      <td>If need help please check PF Wiki]personalfin...</td>\n",
       "    </tr>\n",
       "    <tr>\n",
       "      <th>2</th>\n",
       "      <td>I sold a gaming computer on ebay and the buyer...</td>\n",
       "      <td>US] Paypal account balance is 2000 What can th...</td>\n",
       "      <td>personalfinance</td>\n",
       "      <td>I sold gaming computer ebay buyer paid Paypal ...</td>\n",
       "    </tr>\n",
       "    <tr>\n",
       "      <th>3</th>\n",
       "      <td>Hi all 5 year lurker on reddit here Like the t...</td>\n",
       "      <td>27 YO in £7000 debt and can’t seem to make any...</td>\n",
       "      <td>personalfinance</td>\n",
       "      <td>Hi 5 year lurker reddit Like titles suggests c...</td>\n",
       "    </tr>\n",
       "    <tr>\n",
       "      <th>4</th>\n",
       "      <td>My fiancé borrowed 10000 from One Main and use...</td>\n",
       "      <td>Fiancé used his vehicle for a loan He has bad ...</td>\n",
       "      <td>personalfinance</td>\n",
       "      <td>My fiancé borrowed 10000 One Main used truck c...</td>\n",
       "    </tr>\n",
       "  </tbody>\n",
       "</table>\n",
       "</div>"
      ],
      "text/plain": [
       "                                                post  \\\n",
       "0   30day challengesWe are pleased to continue ou...   \n",
       "1   If you need help please check the PF Wiki]per...   \n",
       "2  I sold a gaming computer on ebay and the buyer...   \n",
       "3  Hi all 5 year lurker on reddit here Like the t...   \n",
       "4  My fiancé borrowed 10000 from One Main and use...   \n",
       "\n",
       "                                               title           true_y  \\\n",
       "0     30Day Challenge 8 Cook more often! August 2018  personalfinance   \n",
       "1  Weekday Help Thread for the week of August 27 ...  personalfinance   \n",
       "2  US] Paypal account balance is 2000 What can th...  personalfinance   \n",
       "3  27 YO in £7000 debt and can’t seem to make any...  personalfinance   \n",
       "4  Fiancé used his vehicle for a loan He has bad ...  personalfinance   \n",
       "\n",
       "                                            interact  \n",
       "0   30day challengesWe pleased continue 30day cha...  \n",
       "1   If need help please check PF Wiki]personalfin...  \n",
       "2  I sold gaming computer ebay buyer paid Paypal ...  \n",
       "3  Hi 5 year lurker reddit Like titles suggests c...  \n",
       "4  My fiancé borrowed 10000 One Main used truck c...  "
      ]
     },
     "execution_count": 16,
     "metadata": {},
     "output_type": "execute_result"
    }
   ],
   "source": [
    "concat_df.head()"
   ]
  },
  {
   "cell_type": "markdown",
   "metadata": {},
   "source": [
    "## Predicting subreddit using Random Forests + Another Classifier"
   ]
  },
  {
   "cell_type": "markdown",
   "metadata": {},
   "source": [
    "#### We want to predict a binary variable - class `0` for one of your subreddits and `1` for the other."
   ]
  },
  {
   "cell_type": "code",
   "execution_count": 17,
   "metadata": {},
   "outputs": [],
   "source": [
    "one_hot = pd.get_dummies(concat_df['true_y'])\n",
    "del one_hot['personalfinance']"
   ]
  },
  {
   "cell_type": "code",
   "execution_count": 18,
   "metadata": {},
   "outputs": [],
   "source": [
    "concat_df = concat_df.join(one_hot)\n",
    "# moneylaundering feature added. (1 = ML) \n",
    "# I will drop true_y now to clean up my df.\n",
    "del concat_df['true_y']"
   ]
  },
  {
   "cell_type": "code",
   "execution_count": 19,
   "metadata": {
    "scrolled": false
   },
   "outputs": [
    {
     "data": {
      "text/html": [
       "<div>\n",
       "<style scoped>\n",
       "    .dataframe tbody tr th:only-of-type {\n",
       "        vertical-align: middle;\n",
       "    }\n",
       "\n",
       "    .dataframe tbody tr th {\n",
       "        vertical-align: top;\n",
       "    }\n",
       "\n",
       "    .dataframe thead th {\n",
       "        text-align: right;\n",
       "    }\n",
       "</style>\n",
       "<table border=\"1\" class=\"dataframe\">\n",
       "  <thead>\n",
       "    <tr style=\"text-align: right;\">\n",
       "      <th></th>\n",
       "      <th>post</th>\n",
       "      <th>title</th>\n",
       "      <th>interact</th>\n",
       "      <th>moneylaundering</th>\n",
       "    </tr>\n",
       "  </thead>\n",
       "  <tbody>\n",
       "    <tr>\n",
       "      <th>1913</th>\n",
       "      <td></td>\n",
       "      <td>HSBC Hires Lloyds Compliance Executive for Eur...</td>\n",
       "      <td>HSBC Hires Lloyds Compliance Executive Europea...</td>\n",
       "      <td>1</td>\n",
       "    </tr>\n",
       "    <tr>\n",
       "      <th>1914</th>\n",
       "      <td></td>\n",
       "      <td>Russian diplomat loses defamation fight with i...</td>\n",
       "      <td>Russian diplomat loses defamation fight invest...</td>\n",
       "      <td>1</td>\n",
       "    </tr>\n",
       "    <tr>\n",
       "      <th>1915</th>\n",
       "      <td></td>\n",
       "      <td>Italian journalist threatened after helping to...</td>\n",
       "      <td>Italian journalist threatened helping dismantl...</td>\n",
       "      <td>1</td>\n",
       "    </tr>\n",
       "    <tr>\n",
       "      <th>1916</th>\n",
       "      <td></td>\n",
       "      <td>Mahtanis Mystery Shareholder in Michigan</td>\n",
       "      <td>Mahtanis Mystery Shareholder Michigan</td>\n",
       "      <td>1</td>\n",
       "    </tr>\n",
       "    <tr>\n",
       "      <th>1917</th>\n",
       "      <td></td>\n",
       "      <td>MENAFATF recognises Qatars efforts to combat m...</td>\n",
       "      <td>MENAFATF recognises Qatars efforts combat mone...</td>\n",
       "      <td>1</td>\n",
       "    </tr>\n",
       "  </tbody>\n",
       "</table>\n",
       "</div>"
      ],
      "text/plain": [
       "     post                                              title  \\\n",
       "1913       HSBC Hires Lloyds Compliance Executive for Eur...   \n",
       "1914       Russian diplomat loses defamation fight with i...   \n",
       "1915       Italian journalist threatened after helping to...   \n",
       "1916                Mahtanis Mystery Shareholder in Michigan   \n",
       "1917       MENAFATF recognises Qatars efforts to combat m...   \n",
       "\n",
       "                                               interact  moneylaundering  \n",
       "1913  HSBC Hires Lloyds Compliance Executive Europea...                1  \n",
       "1914  Russian diplomat loses defamation fight invest...                1  \n",
       "1915  Italian journalist threatened helping dismantl...                1  \n",
       "1916              Mahtanis Mystery Shareholder Michigan                1  \n",
       "1917  MENAFATF recognises Qatars efforts combat mone...                1  "
      ]
     },
     "execution_count": 19,
     "metadata": {},
     "output_type": "execute_result"
    }
   ],
   "source": [
    "concat_df.tail()"
   ]
  },
  {
   "cell_type": "code",
   "execution_count": 92,
   "metadata": {},
   "outputs": [],
   "source": [
    "concat_df['string_features'] = concat_df['interact'].apply(lambda x: x[0])"
   ]
  },
  {
   "cell_type": "code",
   "execution_count": 94,
   "metadata": {},
   "outputs": [
    {
     "data": {
      "text/plain": [
       "array([' 30day challengesWe pleased continue 30day challenge series Past challenges found here]personalfinance30daychallengesThis months 30day challenge Cook often! Two biggest budgetkillers see subreddit lots wasted money eating spending much groceries While everyones situation different want highlight steps help get started Planning half battle It easier cook home make plan week Just getting takeout becomes much tempting figure everything long day Things efficient done bulk Consider making enough leftovers Cooking several meals day also great technique Make use freezer ensure food doesnt go waste Try shop sales If watch ads learn often grocery stores cycle sale It might meat one week cheese next etc So figure cycle area stock up! Walmart offbrand curse words This one way stretch meal planning budget Walmarts price matching policy make buying ingredients one place easier If youre getting started cooking tend eat lot dont feel need jump straight planning entire week meals Leave days unplanned Those days used leftovers gasp eating breaking something freezer MealPrepSunday EatCheapAndHealthy two great resources Reddit help keep motivated inspired Challenge success criteriaYouve successfully completed challenge youve done one following things Gone eat ordered takeout zero times entire week Learned cook tried cook least three new recipes Shared one favorite meal recipes thread30Day Challenge 8 Cook often! August 2018',\n",
       "       ' If need help please check PF Wiki]personalfinanceindex see question might answered thereWhile never remove posts question answered  thread lowkey place ask question matter moronic think might beMake toplevel comment want ask question! Also please dont downvote moronic questions! If received answer within 24 hours feel free start discussion]personalfinancesubmitselftext=trueA big thank many PFers take time answer peoples questions!For past help threads please search Weekly Archive]personalfinancesearchq=title%3A%28%22Weekday+Help%22+OR+%22Moronic+Monday%22%29+author%3AAutoModeratoramprestrict_sr=onampsort=newampt=yearreshideoptionsWeekday Help Thread week August 27 2018',\n",
       "       'I sold gaming computer ebay buyer paid Paypal They filed dispute Paypal saying computer arrived broken My Paypal balance 2000 I already spent 2000 I dont bank anymore Theres way I pay back quickly What canwill Paypal Im really freaking nowEDIT Ive opened claim UPS Paypal Both places asked either get PC back get pictures proving broken shipment well pictures listing showing good condition I sold Ive contacted buyer let know Ive opened claims requested send computer back I gave return address let know I wanted proof shipment sent I also mailing certified letter buyer reexplaining giving specific date I want computer returned I post update I info Thank everyone posted advice US] Paypal account balance 2000 What',\n",
       "       ...,\n",
       "       'Italian journalist threatened helping dismantle Hong Kong money laundering ring',\n",
       "       'Mahtanis Mystery Shareholder Michigan',\n",
       "       'MENAFATF recognises Qatars efforts combat money laundering financing terrorism'],\n",
       "      dtype=object)"
      ]
     },
     "execution_count": 94,
     "metadata": {},
     "output_type": "execute_result"
    }
   ],
   "source": [
    "concat_df['interact'].values"
   ]
  },
  {
   "cell_type": "code",
   "execution_count": 100,
   "metadata": {},
   "outputs": [],
   "source": [
    "features = 'interact'\n",
    "X = concat_df[features].values\n",
    "y = concat_df['moneylaundering']"
   ]
  },
  {
   "cell_type": "code",
   "execution_count": 101,
   "metadata": {},
   "outputs": [],
   "source": [
    "X_train, X_test, y_train, y_test = train_test_split(X, y)"
   ]
  },
  {
   "cell_type": "code",
   "execution_count": 103,
   "metadata": {},
   "outputs": [
    {
     "data": {
      "text/plain": [
       "array(['North Korean leaders used Brazilian passports apply Western visas',\n",
       "       '\\x18White Label Money Laundering Services',\n",
       "       'Is This American Spy Dead Or Was He Ever Real',\n",
       "       'Corruption Kenya worse ever says veteran campaigner',\n",
       "       'DBS Hires Standard Chartered’s Lam Chee Kin Head Compliance',\n",
       "       'Im looking ways promote discussion make subreddit helpfulSo resources subreddit provide Id love hear ideas Openended weekly discussion threads Posts topics Posts fewer topics More posts Career resources FAQ Wiki pages Compliance calendadatebook Social media resources CAMS exam prepHow subreddit useful',\n",
       "       'Senior Moldovan Judge’s Daughter Lived In Posh London Flat  With Tainted Money  OCCRP',\n",
       "       'Venezuela vice president squeezes media bosses drugs story',\n",
       "       'RollsRoyce Vows Compliance After Petrobras Bribe Accusation',\n",
       "       'My credit good sure I qualify I already submitted financial application honda finance plan applying bank backupI incoming check 6k planning charging payment CC pay check comes inis allowed Or would I need wire use cashier checkAm rightBuying new car Reached agreement price I secure financing yethoping qualify Honda 19% How I handle payment yes newb Picking car friday',\n",
       "       'Regulators dig deeper worries moneylaundering checks',\n",
       "       'Hey fellow redditorsampx200BShould I start accounting private expenses If yes What good apps I could possibly connect checking account work halfway itselfampx200BSo far I felt need I student part time job also gets small monthly amount parents state I live Germany I caring far I 200 Euro left every month I aware expenses far I check bank account every 34 days aware much income overspentI thought would certainly beneficial life take habit early years income expenses still reasonably manageable introduction private accounting easier 20 years significantly complicated cash flows thereOther people Ive talked said long I continue spend responsibly really necessary Im starting hardon habit make much difference lifeWhat thoughts manage thatampx200BGreetingsShould I start accounting for\\u200b private expenses',\n",
       "       'Im 29 Wife 34 We probably AS well wife I unemployed December saved first 10000I want something small milestone What would money Would invest start saving Any info appreciated Im greatly informed finances Im trying learn Thanks What first 10000',\n",
       "       'An update Latin America Temer Fifa Mexico',\n",
       "       'How effective Irelands AML system',\n",
       "       'Is sun setting BOTs’ tax status',\n",
       "       'Hi My mother71 get soon 60K sale property thats share Id like get suggestion put money earn bit interest She 401K IRA savings account chase like 10K receives SS I checked CD rates big BampM banks  Chase Bofa seem pay crap like 05% Shes 71 internet savvy doesnt trust either cant banks like Ally likePls dont suggest stocks I cant bear thought hear losing money age methanxBest Way Invest Save 60K cash',\n",
       "       'US Congressional Hearing Al Sanea Money LaunderingArabic Subtitles',\n",
       "       'I received email Alexia branderbrander@cargoworldorg saying part time job opening Supply manager position company  MHM Global Logistic Partner 4000 month Heres job description  iimgurcomwEgarhkjpgiimgurcomAGSxQ1QjpgiimgurcomCzyfpg0jpgiimgurcomqdMe04gjpgiimgurcomyUCpqrBjpgFirst I ignored emailed everyday 3 days Then I said yes The first task game search local companies write reviews I finished email herTask 2 1 They send clients check mail2 I take check put bank3 I keep 5% commission rest Ill send companyThe check already came house I didnt opened yet I emailed lady told I wont taskShe told Id pay penalty  01 per day\\xa0of annual salary amount This rather scary meI cannot find much information company online What options I caseCompany license  iimgurcomjPBEKWIjpgThe document I signed  iimgurcomPDEkFcGjpgiimgurcom4FY3zpWjpgAm I scammed',\n",
       "       'US Finds Peeling Back Iran Sanctions Onion No Easy Task',\n",
       "       'It poor somewhere 560s I think I know one point good I first two apartments paid everything time least fair since like 22 26 Ive five bills I didnt pay time due lack responsibility seeing value importance Just like lot young people concerned Im affecting future despite repeated warningsSo I never knew credit score height I know I went look recently first time lowShort getting credit card things I improve score And also whats considered fair scoremy first goal excellent scoremy ultimate goalJust little context mother I live together split expenses bills name I give half month The bill name car insurance even phone bill name thats shared family plan I know situation change time soon I unsure many options reasonably left try build credit Id appreciate help thanks bunch!Im gonna go read  I get answer Ill delete thisCan give advice improve credit score',\n",
       "       'The 2nd Circuit can’t agree reach civil RICO Next stop SCOTUS',\n",
       "       'Two Colombian Citizens Plead Guilty International Money Laundering Conspiracy',\n",
       "       'What Bitcoins History Means For Its Future',\n",
       "       'I American citizen I’ve living Israel entire life I recently started working company Israel Am I supposed pay kind taxes America Or fill formsTaxes I work abroad',\n",
       "       'I 30yr old Male single kids  I recently received unexpected 2500 want invest towards area life  I max 401K short term debt credit card balances I several rental properties large stock portfolio I invest towards every month  I working hard lately wanted reward something nice  What I put 2500 towards get lot value  Unexpected 2500 What I splurge',\n",
       "       'Hello personalfinance like title said taxes dividends work Im selling options rebuying right Will count unqualified qualified dividendsFrom understanding options I 100 stock X I use collateral sell callput options Ill get paid premium I may may sell stock X In case I end selling stock X I rebuy price I sold would dividends generated considered unqualified basically new stock I bought would qualified I basically saleAm I misunderstanding something something equation Im aware aboutELI5 How taxes dividends work Im selling options rebuying right',\n",
       "       'FinCen Directors address IIBs annual AML seminar',\n",
       "       'The Global Laundromat money went – explainer | Guardian Animations',\n",
       "       'IRS fines unbanked pot shops paying federal payroll tax cash',\n",
       "       'I inherited 205000 reais Brazilian currency grandmother two months ago passed away This money released next week deposited Brazilian bank account I live Europe euro country The exchange rate real  euro dropped 43 49 today less one month Which means valor euros went €47674 €41837 In March 2018 exchange rate 398 would increase value €51507 The bank manager Brazil said good times send money personal account country advised wait gets better But I could find online Brazilian real expected drop around 57 one year I never substantial amount money always lived edge since adult life I’m 30 I know zero nothing investing saving I know grandmother made lot money million reais investing probably rolling grave seeing much I losing Is worth risk leave bank account Brazil 4% 5% interest rate wait times get better I pull money fast I seeing predictions Inherited money grandmother it’s another currency What',\n",
       "       'Dont Set Process Without Input Frontline Workers',\n",
       "       'marketwatchcomstoryirsrulingallows401kstudentloanbenefits20180827The IRS setting framework companies match employees student loan repayments way companies match 401k contributions This cost neutral employer edit would less expensive company traditional matchingEdit employers match would go employees 401k accountAccording article employees student loan debt accumulate 50% less wealth retirement plans age 30 peers without student loan debt I think us student debt one point another felt behindThoughts This definitely cool idea would great hiring incentiveperkEdit 2 due popularity post I wanted remind everyone rules subgtWe dont allow • Moralizing issues • Petitions • Political discussions • Political baiting • SoapboxingThis meant discussion personal finance debt retirement savings meta review pros cons capitalism Please keep things topicEdit 3 Since lot people confused Ill explain 401k match works A 401k retirement savings plan came popularity pensions fell mainstream The 401k taxefficient vehicle invest money retirement Like pension employers contribite employees 401k plans benefit This usually done via matching mechanism I contribute 4% paycheck employer matches amount Matches almost always cappedWith method laid article would able make qualified student loan payments company match amount contribution 401k certain amount So say make 2000 per month employer matches 5% 401k contributions monthly minimum loan payment 1000 example lot debt You arent contributing 401k currently If company chose take advantage program would put 100 2000005 match 401k month made payment student loanThis doesnt hurt people without loans This subsidized government insofaras 401k taxsheltered still pay taxes money doesnt constitute company paying loans Participation isnt compulsoryIRS allow employers match employees student loan repayments',\n",
       "       'Japanese police bracing gang war Yakuza group splits',\n",
       "       'Swiss banks India  Make requests justified',\n",
       "       'Hi personalfinanceI recently started full time large company I 30 days opt health insurance I currently insurance parents I thought I would stay next years since Im 23 married yet So I went opted everything I thought I ended receiving HSA card mail contacted HR next day I told I tried opt I must done right informed since I contributing I fine I looking IRS site I cant HSA traditional insurance I switching HSA couple years I fine contributing long legal could I get trouble bothTLDR Have traditional health insurance new employer opted HSA Now Im worried I get trouble IRS tax exempt HSA well previous insuranceEmployer opted HSA even though health insurance',\n",
       "       'Wanting open roth IRA Vanguard Im 24 years old Can I I need go thru financial advisorHow much income I contribute I make 42500 pretax 0 debtRoth IRA help',\n",
       "       'Recently I getting calls debt collector calling brother  I answering theyve left halfdozen voicemails phone point  They dont specifically say collection company I look appears The company RSG Recovery Solutions Group  I dont know brother people calling phone number asking I honestly dont care  We adults impact  That said I interest helping get contact either I never called back  However keep calling  Should I answer tell cut I keep ignoring hopes stop I something else  Ive read collection companies call family members Im sure counts unless answer  Im US makes differenceGetting Calls Debt Collector Over Brothers Debt',\n",
       "       'Good afternoon redditors! I best keep short nonfragmented want know context I’m asking looking advice best route taking loan28M moved across country two years ago The first city I living treated good terms finance I hated city Las Vegas I wanted move 4 hours west LA always plan A good friend coworker offered stay mothers house LA I paying Vegas time I instantly jumped Fast forward 5 months I couldn’t find decent job I fell behind rent payments I simply can’t catch bills general cost living I stable job pays OKAY also side job may bring good money coming months I perform well I’m counting right nowShe nice enough let miss months obviously would like money I man word So sat added everything I owe it’s little comfortable withThis I need helpadvice road take options guys may know don’t I want move house early possible due getting apartment girlfriend lives hour away We plan roadtripping back east end year beginning next year I need least 5000 easily cover missed payments pay credit cards little I live two credit cards months I without job impacted credit greatlyI maxed 1500CC maxed 500CC I never maxed anything credit went 705 643 I pay offI also note reason I asking credit history isn’t best I want avoid getting hard pulls something I know I going get denied Some things looks bad credit isMaxed cardshigh utilization I missed three student loan payments 5 years ago But since it’s Nelnet “3” payments really 9 way loans structured smaller onesLow debt credit ratioI worked hard bring credit 705 get knocked position sucksSo I want take loan I don’t want get denied These I’ve seeing optionsPersonal Loan preapproved banks Credit Karma I lot preapprovals cK sent letters saying didn’t want go credit issues I’ve stated scares CKPersonal Line Credit Through Wells Fargo bank This seems appealing said it’s better approval odds I don’t instantly start paying back 5000 I use I need pay back Than still future emergenciesSecured Loan USAA using vehicle collateral This seems pretty good it’s low APR compared I’ve seen using vehicle makes feel better getting approved Credit cards option A I don’t want one B Using amount I need would instantly 100% utilization knows I would get approvedSorry fragmented stressing much I’ve done good correcting credit mistakes I made years ago I HATE debt I know get situation I I need take loan I want best way I without regretting decision Thanks reading I hope hear advice Need good advice getting situation smart way Loan options etc',\n",
       "       'My boyfriend I basically sharing bank account keep money Ive never really Ive never supported 100% Last night I couldnt sleep I realized able support means I less freedom make choices I make 13hr fulltime job Last pay period I made 764 After bills I around 290 dollars left gas groceries etc pay period We agreed instead keeping things one fund us I could put money half expenses joint account keep rest personal account The car I pretty fuel efficient I dont drive much I probably use little tank month runs 3326 My breakfast provided time boss coffee protein bar normally boyfriend I eat together dinner Not sure divvy yet But I responsible lunches Im budgeting 50 pay period 10 weekdays lunches   That leaves around 200But I dont really know I havent budgeted clothes car repairs maintenance entertainment ampx200BThere things Id like bring moneyCreate Etsy store selling PDF templates Create Photography website Need pick nicheSell things Ebay Need lightbox ampx200BSo I would like budget things I access photoshop via work I good camera lenses tripods I also lot extra stuff lying around I dont need grandpa hoarder probably wouldnt mind I sold things Ill talk first course Id love set life point get revocable trust create official buy stock learn invest properly make plan retirement etc But first things first tldr I budget 200 take care worldly needs clothes entertainment maintenance start side hustlesHow I budget start side hustle survive I',\n",
       "       'Do really get paid two days early sign direct depositChime  Early Payday',\n",
       "       'I recently left career pursue business During time I gone high paying salary making enough get business picking credit card balance increased way I hoped Im dire need something ASAPIm currently almost 18000 owed Chase Reserve card 11600 available credit My Savings Checking low Ive always paid full balance time career transition gotten messIs better go 0% card Ive seen Slate recommended another type loan I doubt Ill able pay balance within 15 months 1 What happens 15 moths up2 What else I optionsIm new please kind ELI5 answers would appreciatedampx200Bampx200Bampx200BNeed advice resolving high interest credit card debt',\n",
       "       'Were going school California graduate two years Our pieinthesky goal able buy house graduate although goal might lofty California prices still want work towards itWere pretty frugal rent fairly low live roommates Our per person annual expenses hover around 12000 leaving us headroom save invest weve ever experiencedWere looking financial tips wonderful people offer usMy SO I recently started jobs make roughly 60000 annually Before making 18000 Looking investmentsaving tips',\n",
       "       'Senator Warren says US needs rethink money laundering laws',\n",
       "       'So first Im bartender money inconsistent I always make enough money pay bills end month I dont always due date Im thinking might good idea get low limit cc setup auto payments pay monthly bill cycle Ideally Id like get one gives rewards using Also first CC Any thoughts suggestionsEdit ClarityNeed advice good rewards lower limit cc pay monthly bills',\n",
       "       'Check outgovukgovernmentconsultationsmoneylaunderingregulations2017moneylaunderingregulations2017Updated 26 June 2017UK new laws money laundering 2017',\n",
       "       'Not sure right subreddit ask friend mine  Panama citizen Switzerland 20142015 She leave hurry unpaid bills HospitalTrainPhoneCar total \\\\~2200 CHF ampx200BShe Spain 4 months internship hotel During time received  physical letter Swiss Debt Collector called Intrum Justitia hotels mail This latter half 2015 In early 2016 received email company threatening legal action From understanding The debts sold company wouldnt respective companies books anymore  She still Panama day around 34 years since left Switzerland She gone back Europe fear detained airport debts mentioned  I wanted know valid fear She wants go back study Belgium France wanted know possible without afraid missing payments going complication application process afterwardsampx200Bampx200BHelp With Old Swiss Debt',\n",
       "       'My fiancé I recently engaged beginning plan wedding shortly purchasing first home I’m expecting pay wedding  anything receive parentsfamily bonus I likely contributing wedding funds I make fiancé significantly less debt I’m currently contributing 15% 401k I wondering personalfinance viewpoint would completely freezing drastically reducing contribution company’s match I would also like save little payment house something work wedding I’m 26 I figured slowing 401k contribution would better taking debt pay wedding Our wedding date somewhere year two years good amount time save I’m really looking constructive advice first hand experience anyone offer Obviously know need define budget currently working I appreciate insight EDIT Thank sound constructive advice I think I’ll lower 401k contribution company match time keep budget reasonable Then bump back 15% Should I freeze 401k contribution save wedding firsttime home purchase',\n",
       "       'Paradise Papers A Yanukovych Pal €13 Million Yacht Family Loves',\n",
       "       'So Im going signing ACAMS cert June I correct understanding I send 1500 get materials I six months take test six month countdown start I pick test dateIve working riskfraud year I spent decade stock trader series 6 7 63  Can anyone offer comparison like studying ACAMS vs series license  TIAACAMS study question',\n",
       "       'Taiwan Nicaragua sign antimoney laundering pact',\n",
       "       'Hi Reddit I’m sorry repeated I read sidebar still would like help I’m 22 almost 23 got first full time job My 401k contributions start next week 10% 4700 annually It’s “aggressive” portfolio I pick individual stocks I’d like little knowledgeable I There employee matching I would also like open Roth IRA 2065 target date also aggressive portfolio Should I decrease 401k contribution since there’s company match I able hit 5500k annually even 10% 401kOr I invest mutual fund instead Or three Isn’t Roth IRA mutual fund anyway cap Edit Should I contribute pre tax post tax 401k considering income relatively low But I’m NYC taxes high don’t plan forever Thank I’m 23 Should I 401k AND Roth IRA',\n",
       "       'Boss says would rather pay I employee staying without working next two weeks rather pay full last day Is difference receiving money either way Anything I worry aboutJust quit employer owes vacation pay How receive payout',\n",
       "       'Biggest online betting ring bust Chinas history',\n",
       "       'Scandal hit Petrobras may release audited data April 22',\n",
       "       'Hi! I ~5100 credit card debt split 2 different cards Chase capital one Theyre 23 years oldI havent able make payments since June I wont knows long I unemployed mainly due health reasons I dont know matters debt simply due life dealing bad hand young age From Ive read itll go collections I nothing bank account I dont anything I rent home What happen Will take court They cant garnish wages since I none whatI stressing would love input  Location  KY USACredit card collections',\n",
       "       'Hi! Im trying understand options makes sense regard renting vs buying right nowI’m 30 earn 83000 year 100% debt free 2 months castudentcard loans I fortunate job prospects good company longterm health I got 67% raise good review things feel secure My employer contributes 10% salary SEP top march program I much retirement probably 10k  lot poor life choices earlier set back I expect continue grow steadilyI currently rent apartment  1100 month  Utilities place small new construction pretty cheap  150 month total max I live outside town apartment utilitarian doesn’t feel “homey” ancillary factors make undesirable  nothing walkable internet isn’t good etcI single children dependents My monthly paycheck taxes  4600 I’ve gotten debt reasonable credit score 730750 within couple months I’m trying decide I regard getting houseThe real estate market competitive doesn’t show sign slowing  2000 sq ft homes well appointed 350000 rents town similar places easily 2500 month I moved outside I want buy cheaper house outside town commute I fear getting stuck  significant loss since area lot less desirableI save aggressively next months family member may able match savings  35k payment doable midwinter Property taxes also pretty high 102% national average I’m looking 7k year taxes minimum Property values risen 26% annually last decade lot new construction occurring constantly mediocre condos selling upwards 350k+Now cost living low debt eliminated reasonably high paying job I’m crossroads would love advice I keep hearing homes aren’t good investment I would massive quality life improvement I got nice one  mortgage looking like it’d  2500 inclusive utilities sure double  150mo gt 300mo average since I’d pay water use large space heat coolAny suggestions things I consider  reading materials etc would welcomed Thanks reading I know long  important decision I’d like much advice varied group people I get I plan talk Agent couple weeks chat marketRent cheap  low QOL Buy expensive good market',\n",
       "       'Today around 7am I lost wifi signal I normal self diagnostic tests found incoming signal issueI called spectrum get info I told I interference cable sent tech cut   And I notice door I notThe rep told I need schedule day appointment I home day I cannot time slotBecause I without internet week sucks invested Into smart home technology I also spending much cell phone bill data usedIs normal practice internet providers   Is compensation I get waste time Note I filly paid bill came Spectrum cable cut cord',\n",
       "       'US Lawyers Are A Money Laundering Blindspot Some Argue',\n",
       "       'If correct reddit post apologies please point right directionTo succinct possible family member recently passed away They kept awful records multiple bank accounts across multiple banks The beneficiary deceased pulling hair trying figure banks accounts etc Is sort service public private sector help track accounts assuming course necessary documentation The deceased family member  New York State makes difference Please let know there’s additional info needed thank advance responses Tracking bank accounts next kin',\n",
       "       'Nordea Builds Defenses After Swedish Money Laundering Fine',\n",
       "       'How UK company formation agents fuel fraud',\n",
       "       'A little year ago I bought first house wife The house came another lot corner lot lot next corner lot actually separate lot technically I two properties With market right Wisconsin considering selling side lot We purchased 149k realtor talking suggesting listing 34k I’ve never sold property I need much advice I get minimize much profit taken away As well making sure I everything correctlyThe realtor saying fixed fee 25k good bad Will paying capital gains tax profit The realtor said isn’t sure may considered homestead exempt doesn’t know said contact title company sureThe follow topic sells I get x amount money I use money better financial situationMy financial situation26 married 1 kidStudent loans39k @407%v125k@525%f525k@525%fMortgage210k@4%fI make ~64k yearWife quit job stay home momMy thinking pay smallest student loan money property lower monthly expenses make easier live 1 income Then bank rest payment new home We know don’t want live 3 4 years want smallecheaper place countryAny input greatly appreciated!Selling portion property need advice distribute money property',\n",
       "       'Feb 2015  I financed 2014 Ford Focus hatchback SE 1754215 72 months @ 12% apr Being 22 time ignorantly agreeing due Sure I afford easy 34465 month payment mindset I left crappy place today The car absolute turd I replaced engine back Feb year 3500 I found Im first child April My wife I buy first home May Her old junker craps June felt confident finance new car much reasonable rate monthly payment Pretty much dumped combined 30K savings 5 Months We currently 2000 savings We try put back 5001000 month I able drive car weeks brain manual transmission controlled automatically doesnt know gear wont start After reading everything car fact longer warranty I think right choice dump another 2500 fixing bandaid kids foot hot summer day community pool solution Im looking car financing tips working negative equity current loan Numbers belowampx200B1754215 Financed 72 Months @12%0032 Months remaining @ 34465 eaBalance Remaining 902574Trade car 500000Leaving 400000 Neg Equityampx200BFrom I find online options look new cars rebates could eat get quality used car awesome price low monthly pay Im used paying pay soonerampx200BThe issue New car lease option require excellent credit score using preferred lender Having little credit history top financing new home wifes new car might crippled option unless I find cosigner watching dad constantly barrow money family growing That left bad taste mouthampx200BIm currently financed Ally never missed single payment In head Im hoping I speak wanting finance new car get provide better rate drop remaining bs fees charges create new loan adjusted trade remaining balance Is something lenders I would assume since consumers best interestampx200BIm trying make smartest financial choice moving forwardampx200BAnyone similar situationampx200Bampx200BTipsAdvice working Negative Equity car loan',\n",
       "       'Hi all! I’ve lurker quite time I’ll keep post briefampx200BHow much would average monthly expenses accumulate I choose live Stamford CT instead NYC rent excluded I recently accepted position located Stamford CT trying decide monthly expenses would look like My base salary would 95000 I graduate loans would IBRP 10% income I car paid monthsampx200BAny helpful tips would appreciated!Monthly Budget Costs For Single Living In Stamford CT',\n",
       "       'I two loans  100k mortgage 5% 30 years left  Another mortgage 10K balance @ 6% 2 years left  I extra 5k put towards one loan  Friend says pay towards one time left save interest even lower interest rate  Good adviceWhich loan pay extra',\n",
       "       'We 55000 amex savings account 175% earmarked new home Current mortgage 105000 3625%  Value home approx 155000  I figured would save 2000 interest vs keeping savings put nut mortgage bought new home 0119 We would use equity next payment  We thinking 300000 With 20% new home  Is worth giving liquidity 2kKeep house payment cash pay mortgage',\n",
       "       'Me Annual Income around 75000 taxesHer Annual Income around 32000 taxesMe Total Debt including car payments roughly 25000Her Total debt Less 1000Me Monthly Bills equal around 1800Her Monthly Bills equal around 900We set budget 20K wedding would really like pull year Please save elope save  stuff reddit likes circlejerk around We want wedding want know ideal budget looking plan marry September next year Thanks advanceEdit FormattingIm engaged! Can someone tell us budget recommendations us based following information',\n",
       "       'Hey allIf anybody experience AMLCompliance jobs tell many people LE community ever transition area I lost passion policing mostly I feel like adult babysitter rather investigator  Ive research past weeks realized AML something I may interested  I experience banking however I experience fraud investigations Is anything I focusing improve resumeThanksThinking transitioning Law Enforcement AML',\n",
       "       'The Mayor Belgrades Multiplying Bank Accounts',\n",
       "       'China May Let Individuals Shanghai FTZ Invest Overseas Directly For The First Time',\n",
       "       'NYDFS Encourages Banks amp Credit Unions Serve Medical Marijuana Firms',\n",
       "       'Gangsters flood Italian banks €500 notes known Bin Ladens notorious rarely sighted',\n",
       "       'More Regulation Leading More Enforcement Against Community Banks',\n",
       "       'I’m sitting tire shop week putting 4 brand new tires car replacing flatLuckily I emergency fund I hate spending unnecessary money It made think  motorcycles economic gasmaintenance Are motorcycles economic cars',\n",
       "       'US House panel subpoenas Justice Dept bank prosecutions',\n",
       "       'Scammers Are Constructing Fake People Get Real Credit Cards',\n",
       "       'I got divorced years ago As part agreement order keep house I also took debt attached house mostly consists 50000 draw 100000 line credit Ive watched payment start go last months got concerned money Im wasting interest HELOC The primary mortgage 375% 15 year  Im interested touching refi So  I thought perhaps I would cash enough Whole Life Insurance policy pay HELOC get back Borrowing Life Insurance 8% doesnt make sense HELOC 5% right I guess I could surrender policy cash use pay HELOC Does anyone opinion best approach I guess Im concerned tax implications would cashing policy My thought leave try put much money toward HELOC debt every month thats difficult I thought would Are ther alternatives get HELOC floating interest rateThanks!Have 50000 HELOC divorce 65000 Whole Life policy  I cash pay HELOC',\n",
       "       'The Fake Biofuel Factory That Pumped Out Real Money',\n",
       "       'I’m 17 yo I’m start new job making minimum £600 month maximum like £1000 I want know invest make money tips greatly appreciated17 yo investing tips',\n",
       "       'Husband wife admit massive medical kickbacks scheme',\n",
       "       'Hi hoping get adviceinput finances see areas I could improve upon Ive using YNAB religiously past year whilst good opening eyes outgoings would nice get external advice I could Im oblivious fact Im slowly going right direction beyond sure best areas focus Im Irish I tell prohibitive compared US invest ETFs taxes punitively high Any advice appreciated!Age 26Salary €40000 + 10% bonus annually end rolling contract approx €2400 pm pension The nature field Im working means Im close upper end scale without getting extra qualifications moving different areasBenefits Employer matches 2x pension contributions 8% match end Health insuranceCurrently €2000 current account €8500 savings account €450 DeGiro Saving approximately €8001000 month Contributing 12% pension monthly receiving 8% match 20% total €6500 split two pensions growing much I tell even though theyre set highest risk category Car paid cash years ago regular maintenance Approximate monthly outgoings Rent €550 sharing girlfriend Dont mention housing market normal Car Insurance tax gas repairs €200 Groceries €200 Canteen €50 PhoneBroadband €57 Electricity €60 Socialising €150 NetflixSpotifyGaming €20 Vaping €40 Beats smoking right Miscellaneous ~€75According sidebar Ive least 6 months expenses saved look investing ETF something similar Im saving anything particular moment Should I looking cut outgoings Beginning investing ETF Overthinking relax little Thanks advance input!26 Am I enough  could I',\n",
       "       'I took passed CAMS exam today I eager get certifications knowledge field So far I looking following 3 options CAMSFCI CAFPCRCM Has anyone taken would recommend Does anyone know average study time examinations UPDATE I contacted ABA Customer Service Certifications stated could provide average study time Not unexpected unfortunate FinishedPassed CAMS next',\n",
       "       'I’m 23 pretty much messed life financially every way possible I 100% know it’s fault I don’t know get back top I got divorce two years agoI’m behind almost bills moment I moved one base another already used almost every kind advance I could I got vehicle divorce I cannot afford drive credit low refinance 511 month bill 224 insurance nearly 150 month gas I don’t even go anywhere work gym home To top ex husband quit paying loan I cosigned 12000 four years ago I deployed caused credit score drop 100 points nearly overnight one contacted let know stopped paying went collections Now I pay 424 month 212 modified payment plan HIS loan there’s nothing I He’s trying declare bankruptcy leave 100% responsible loan Even bigger kicker! I 12 weeks pregnant stressed max everything I love baby’s father lot stationed 8 hours away I really don’t want know financial mess I I also unable ask family help If shoes steps would take fix mess I know I’ve irresponsible I fixed debt deployed move pushed right back Feeling like I drowning',\n",
       "       'Hey! I wondering anyone knows spending tracker app take account Venmo etc Im early 20s lot people age use Venmo split costs things For example I go dinner friend restaurant let us put one card I might put card friend Venmo case charge appears bank account higher net amount I actually spent Ive tried Mint havent able make take account Venmo transactions Clarity doesnt support Venmo either I would willing manually edit transactions havent found app allows Please let know good options!Personal finance apps take Venmo account',\n",
       "       'USAA Bank Studying Bitcoin Technology',\n",
       "       'So short simple I currently university student I receive financial aid loans checks I usually dont deposit needed Well I need bank declined deposit stating stale 6 months past original date This isnt extreme urgency I I called bank said cannot accept Who I call get issued new ones Will I liable even never get depositedStale Loan Checks',\n",
       "       'MENAFATF recognises Qatars efforts combat money laundering financing terrorism',\n",
       "       'Ive owned one car I bought cash terrible job also I looking buy used ~2014 Accord next week studied value reached dealerships testdrivesIve told prior visiting dealerships I talk bank financing rates offer How exactly I I phonedo I need make appointment person Also good tips prior maximize rates etcThis also first real car purchase Ive put adultlevel thought general advice would appreciated Though auto loan tips definitely needed right nowThanksEDIT I preapprovals two banks I decent credit 732 flat refused due long enough credit history Is normal know banks you’d recommend auto]What know financing used car first time go auto loans general',\n",
       "       'Hi allIve keen follower finance flowchart served well However wife I currently live abroad intend purchase home around 3 years back home country made question logic Id love someone could sense check options based information give us fresh perspective Currencies represent actual currency savingsdebt held inPrimary GoalAcquire house deposit UK house purchase 3 years later  Joint Finances  £42’500 House Deposit UK Savings account  Me 32  140’000 Salary  No debt  £23’000 UK Pension  12’000 Emergency Fund US Savings account 6 months worth expenses  7500 US 401k 6% monthly contributions – matched employer  Her 30  140’000 Salary  £8000 Student Loan Debt 15%  £15000 UK Pension  12000 Emergency Fund US Savings Account 6 months worth expenses  0 US 401k 0% monthly contributions – 6% matched employer    As far I’m concerned flow chart would suggest I ensure I’m saving least 15% gross income retirement either IRA 401k channel remaining savings house deposit fundBut question plan return UK 3 years worth saving anything retirement accounts USA would I better channeling savings house deposit fund Especially given theres match employerFor wife there’s couple options She mandatory repayments student loan equating around 800 month required transfer back UK The flow chart suggests would best max 401k contributions extent they’re matched pay minimum repayment student loan retirement contributions 15% would likely leave nothing left go towards house deposit student loan debt paid drag 2 years continue pay minimum So would better trying aggressively clear student loan debt could channel funds towards house deposit sooner rather later And worthwhile saving 401k intend return UK 3 yearsSavings plan sense check',\n",
       "       'As US Presses Extradition Ukrainian Magnate His Lawyers Cry Foul',\n",
       "       'Does one experience asking ideal salaryThe posted range position 7090 I figured I make using cost living websites puts around 82000 Should I go ahead ask full monty stick I believe current salary adjusts And methods worked someone done Edit also brand new position one done organization lot high level eyes looking Not sure allows higher asking amounts Moving GA VA new role opportunity argue salary',\n",
       "       'I explain I children’s college savings use guide available I also looking suggestions improvements I hit general topics well get weeds important parts I addressing every aspect accounts You look tax penalties tax tables Also I providing values show I diversifying accountsI 2 children 25 years 9 months accountsvalues I haveTreasury bonds 13k  Set mature means double 2033 right college  These bought college planning allocated use  I make weak recommendation make part strategy       maturity date collegeGeneral brokerage account 10k  This used backup tax deferred accounts  This money completely flexible I pay full taxes  The plan use flex college account If used I retain option keep      money share children  This part strategy avoid noneducation expense tax penalties well      avoid making money legal property children see UTMA ESA       portions529 plan 15k  One plan sharedswapped children  This used precollege college education expenses  Pretty easy swap another child family member  Essentially contribution limit It approaching restrictions      pretty wealthy research  You generally access certain funds provided banking institution       similar 401k  There penalties non education expenses  You take money time long willing pay      taxes penaltyUTMA account 0 college savings far  Each child one  I birthdaymisc money right I invested Vanguard      ETF index fund This account play part plan teach investing  This account unique research  You invest normal equities  Any money legally belongs child special tax ratestables There      update new tax plan Also money heavily affect FAFSA applications You use account want make monetary gifts child      need follow gift tax guidelines  The child gets money turn age majority usually 18  IMPORTANT YOU FIDUCIARY money child I use account specific purpose addressed      Coverdell ESA portionCoverdell ESA Each child one 6k  Think like traditional IRA  It 2k contribution limit per child per tax year I dont think I max going forward You invest normal equities I invest aggressively one   You use precollege college education expenses  There penalties noneducation expenses  This account switched family members similar 529 plan might      restrictions  You reclaim money long willing pay taxes      penalties  Cannot make contributions past recipient’s 18th birthday recipient fully      withdraw turn 30         I tax professional This unique account well There income limits apply person making      contribution But way get around If make 2k gift      child UTMA account contribute 2k      ESA  The important part ESA becomes UTMA ESA least need call      bank make switch My understanding able switch      account another beneficiary You able reclaim      money It becomes property child I don’t lot input regular ESA UTMA ESA affect FAFSA      applicationsOther options Use ROTH IRA contributions I don’t plan Children savings accounts This isn’t part strategy time CD’s Not part strategyOther considerations go college planning children access GI Bill accounting possible scholarshipsmilitary program compensation This lessens much money I put well much I divert tax advantaged accounts brokerage You may need weight contributions toward tax advantaged accounts othersBetween contributions family members I plan contribute approx 10k per year total towards college savings This might lot lock college I get around using brokerage accountThat’s pretty much Hope helpsBasic guide strategy college savings',\n",
       "       'I thought it’s gonna easy I working compliance field specialist transactions monitoring With day day reviews aml information sanction documents guidelines I thought I able rock exam one goal With 180 minutes total I realise I won’t able able pass exam “They MC” Hell MC mostly 1 healthy worded MC question need study question least 23 times one understand question asking 2 Its choosing one option 4 answers! Majority MC tick box like questions need select correct answer tick correct boxes ensure right It’s hell difficult times options comes 6 5 choices select 2 3 correct I failed first attempt scoring 63 marks In second attempt I subscribed various options I aware study manual boring read tried reading online YouTube channel online study courses What’s method study  Pls share Certified anti money laundering specialist  CAMS exam',\n",
       "       'New Reddit! First Post! So heres situation I finished undergrad 100k student loans Im thinking consolidating federal private loans one loans high 911% interest rate itll easier keep track  But Im also strongly considering going back school Do know loan consolidators deferment policy pay graduate nice features Or done student loans regretare thankful Ive 10 different websites comparing interest rates checking Im preapproved cosigner Im definitely going need take loans school Any help awesome thanks!Near 100K Student Loans Thinking Consolidating Going back School Help Please!',\n",
       "       'Hi PF folks long time lurker Need advice tldr quit day job decent Efund need job ideas next ~1 2 years figuring career path Background late 20s Quit job science teacher mesh personality Never anxiety issues starting teaching 4 years ago disappeared since quitting Love subjects I taught hated front class Currently pursuing graduate school hopefully MBA Will take 1 2 years study prepare Grad school plan could change My undergrad neuro Ive also considered related stem paths I would eventually like work tech company kind I also passions I started flushing summer writing music crafts home projects I hope turn least one ide gig road near term What I looking part timeper diem job two cover expenses 1k per month would fine! without needing fully deplete Efund I would prefer desk job kind allows study Like jobs yall reddit day!! Between hobbies studying grad school applications I fairly busy I need income I would prefer something unrelated stem turn accidental career like teaching I worked restaurants BOH FOH retail neither really fits current needs Ideally something 1215 hourly range ~2025 hours per week Insurance benefits needed I consideringPart time deliveryuber driver flexible hours study timeDesk job kind need ideas I datastats experienceWorking local university securityadmissions full timeOpen absolutely anything including job doesnt fit needs perfectly Must part time sure Quit career job need short term job advice',\n",
       "       'Fruits vegetables used money laundering scheme Romanian police claim',\n",
       "       'Hi I’m going freshman college semester I looking adviceCurrently school’s financial aid makes parental contribution 8500 That 3000 outside scholarships I received That’s manageable least yearNext year I start thinking loans since way paying 11500 year feasiblesustainable parents I’ve read tons horror stories students accumulate interest faster pay Where I even get loan From schoolWhat’s best source loan experienceWhat I look I choose loan I avoidAny additional tips save money college buying books etc would appreciated wellThis awesome sub thank much timeNew college student looking tips personal finance loans',\n",
       "       'I bought car couple years ago making money due injury I leave construction Im making enough pay monthly payment insurance fix clutch Does make sense put payments back burner buy cheap car I manage payments Its like 20% interest cuz I didnt know I I financed carIm sharing girlfriends car right Im picking extra shifts bring money make best decision Cant quite afford car payments clutch needs replaced Is bad idea buy cheap car I get funds order',\n",
       "       'weeks back friends talking 401K putting money rotth IRA bunch stuff way head\\u200bI 2 401Ks one previous employer one current I maxing contribution current employer old employers 401K sitting there\\u200bI done anything far anything go I think managed whatever default investing portfolio use makes sense\\u200bSo anything else I Should I merge 2 401Ks\\u200bIf reddit please let knowWhat I 401ks',\n",
       "       'I little 15k debt I need pay May payments months behind This debt spread 2 personal loans 4 credit accounts I looked services national debt relief clear one advantage What I Thanks15k debt need advice What suggest',\n",
       "       'So SituationIm getting married deploying next monthNational Guard  Turning 29Income \\\\~80kyr Civilian side TaxableAfter taxes \\\\~60k \\\\~55kyr Guard side untaxable includes benefits145k mortgage 375%26k combined debt 6% thanks SCRA0 savings Im terrible getting head game dont crucify  29k Roth 401k I started late investing Currently I invest 10% 3% match jumping 6% match next yearampx200BHer  25 35kyr15k savings 4k 401k8k auto loanampx200BIve done lot analysis finances recently plan action farMy mortgage 1000month I renting house next month covering mortgage utilities I applying money I normally put towards mortgage towards savings next year create late game safety net I get offered unique opportunity deployment invest money Max 10k 10% return savings account So theoretically I 11k end deploymentShe currently cheap living situation continue Im deployed live together I returnI 6% max debt next year going take advantage paying high interest debts immediately Example 5K credit card 23%I opened Roth IRA I max next yearIll deployed next year tax free zone This means I invest Roth 401k 0 taxes taken upon investment 0 taxes retirement Id like max 18k lot money invest I already debt building safety net I probably adjust halfway Ive tackled key debt downampx200BUpon return I plan taking money I would put towards paid debt safety net finish flipping house I estimate 1520k renovations still need done The bright side neighborhood pretty cookie cutter houses Mildly updated houses Same exact model mine sell \\\\~200k Planning conservatively I see 15k return investment I sell 2 yearsDoes seem like good plan Are things I consider And importantly What goals I set myself! My short term goals seem solid reached I dont know shoot 51020 year goal I pretty well establishing needs take place make goal happen difficult know I set barampx200Bampx200Bampx200BGetting married need advice',\n",
       "       'Im working budget trying see close 503020 model  Everything would fit perfectly IF cost health insurance wasnt expensive  My husband I pretty decent insurance standards monthly premiums 435month family three low deductible plans  Clearly employees contribute large portion  Other higher deductible plans available case suggested How people manage stay 50% range health insurance premiums included  The health insurance costs country outrageous  Ours 6% gross income I consider us pretty fortunate  Why isnt discussed budgeting articlesmodelsadvice  Health Insurance Premiums Percentage Income',\n",
       "       'New York banking regulator grants first charter bitcoin company',\n",
       "       '28yo Single Software Engineer On track well 1 years salary retirement funds 30Im thinking reallocating 401k distributions Im currently \\\\~99% Fidelity 2055 Target Date fund 042% ER rest Fidelity MidCap Index fund 0025% ER My best expense ratios available LargeCap FXSIX 0015% MidCap FSTPX 0025% option midcap SmallCap VSCIX 004% International VTIAX 011% RealEstate VGSLX 012% Bonds FSITX 0025%LargeCap Ive got VTSAX available 004% I know often recommended How FXSIX compareThe site Ive seen recommending distributions different size market caps Money Under 30 recommends 30% Large 20% Mid Small International 10% Bonds No realestate Is reasonableIve also seen sites recommending bond share \\\\\\\\age20\\\\]\\\\] \\\\\\\\age30\\\\]\\\\] How constantlyshifting target bond share work distribution That extra percentages go  evenly split funds something elseAs bit aside Im getting top taxadvantaged account contributions Im thinking taxable accounts Would make sense start investing posttax VTSAX Im already investing largecap index fund FXSIXFor reference Ive got Roth IRA well fairly even USCRX Mod aggressive 116% ER URSIX 2060 Target Date 089% ER Im planning move lower expenseratio positions thats complicated minimum investments eg VTSAX 10k min sheer number available options Im going deal little bitThanks!Considering Shifting 401k Out Target Date Fund',\n",
       "       'Just heads I used contribute 10% salary 401K I recently bumped 15% see MAJOR increase I lose losing 80 per check I still save enough live comfortably enough get extra 160 per month end almost doubled amount I contributing 401K per month So heads see possibly contribute benefits lot!Bumped 401K %',\n",
       "       'My first foray hospital system went well getting better perspective financially disaster  Rare illness trip ER cost 6k  Paid Ive since switched policy high deductible coinsurance HSA account avoid future  I procedure seems cured problem I thankful  The procedure authorized insurance company cost 50k  The problem hospital authorize medication costs 64k say rare  Even checked I would got confirmation authorization  It seems like would near impossible verify doctor assistant pill etc network andor authorizedThe hospital says authorization responsibility patient insurance company blames hospital  In end bill gone collections  I add Ive called hospital every month I get bill hospital assured would fine ignore itI little remiss  I qualify hospitals assistance program insurance help I suppose I cant sue paperwork sign hospital say problemShould I let bill hang collections forever  Or bite bullet declare bankruptcy get rid  Any options thereThe recent story teacher 100k cardiac bill made think ask  Hospital 64000 mistake insurance Im stuck bill Any options bankruptcy',\n",
       "       'I leaving company 5 years  The company private I granted options nonstatutory options time working I must exercise expire within 30 days leaving  The strike price options 015 exercise price around 75k There 110000000 issued shares makes company valued 165M according strike price  Thats 100M market value estimation  It seems like good bet exerciseFrom understanding I exercise taxable event  The tax gains fair market value minus exercise price  The problem stock isnt traded  How I determine FMV share figure tax liability beValuing options exercise',\n",
       "       'We saved money wasnt earning much interest bank decided use payment rental property We would like sensible figure get best return investment Also make legal mistakes get stuck problems etc About invest small house rental We would like manage property Any advice best way make successful investment',\n",
       "       'Bitcoin Faces Regulatory Backlash EU Tells Banks Stay Away',\n",
       "       'Currently two jobs I enough pay car payment pay semester school one jobs program give money back pass classes D higher But worth Or I take student loans worry debt later I get good company right school debt] working 2 jobs taking 2 classes week I pay I go graduate debt free late go school full time graduate early thousands dollars debt',\n",
       "       'Swiss Report Lays Foundation Bitcoin Become Legal Money',\n",
       "       'Feds Casinos must track pot business owners workers game tables',\n",
       "       'Hi pf  Quick question I auto loan Bank America I ended paying loan early My balance last night 50068 payment 500 went leaving balance 68 cents This morning I couldnt login Bank America website said I dont open accounts  Does anyone know normal Am I going start calling BofA pay 68 cents  Thanks!Bank America Closing Loan Account Balance Due',\n",
       "       'I recently finished creating 3 month emergency fund planned beginning investing However friend told market high I keep growing emergency fund 6 months I invest anything I don’t feel like I need 6 months I still relatively young company rapidly growing parents told I move back something ever happen So advance y’all I leaning towards investing safe stocks ETFs mutual funds Oh I also debt either Keep saving begin investing',\n",
       "       'My girlfriend dependent I subscribed health insurance company The insurance company informs report value health coverage IRS called imputed income Looking online looks like I write income I prove girlfriend fact tax dependent receives half support etcampx200BWhich IRS form I use report imputed income I establish girlfriend tax dependentHow report imputed income claim domestic partner tax dependent',\n",
       "       'Long story short I brand ambassador company months ago refusing pay We’re talking 120 it’s even really worth anybody’s time pursue I’d love I could file something posterity Anything I Recourse small wage issues',\n",
       "       'Im planning coming US TNvisa everything goes plan Im looking putting application apartment I head Since I dont SSN yet credit history even return anything return Will neutral low Some apartment complexes seem rather stringent credit score even strong paystubWhat credit score return SSNUS history',\n",
       "       'Im 35 years old living New York CityIncome 105000Credit score 800+Monthly posttax401k takehome 5400Rent+utilities 2850Debt 0Savings 40000k cash 11k CDStarted 401k like week ago Depositing 15% Company matches 50% 5%Im looking buy home anytime soon mostly I cant afford I plan waiting I get married Dont plan moving anytime soon year I plan moving girlfriend monthly expenses go roughly 8001000What else I money I dont know anything anything35 nothing money Tips',\n",
       "       'Looking get loan credit report able get higher preapproval mortgage houseI want pass loan wife without register car name tranfer loanWe want take personal loan due high interest Did know lender borrow without lien holder Thanks advance!ampx200BAuto loan without lien',\n",
       "       'Crown Casino gambling debt linked drug crimes committed Vietnamese women',\n",
       "       'Im looking transfer money one card new one 0% APR paying whole balance right doesnt  make sense I paid new roof funds low  A years ago I tried thing American Express kept claiming technical issues promotional period I calling weekly kept assuring I wouldnt worry since fault theyd definitely resolve I didnt worry affecting promotional period  Of course expired immediately refused honor transfer I new credit card without getting benefit  This makes wary surely companies transfer week instead BS 3 months nothing  It really awful since I funds pay I paid like 3 months 20% APR nothingIf recently credit card balance transfer promotion experience',\n",
       "       'Hello everyone! I seeking advice route take paying car loan FYI I live Queensland Australia My credit rating average due poor choices younger years My goals become debt free raise credit rating increase chances getting home loan hopefully near future Starting finance value around 31000I 17500 AUD remaining Interest rate 119% Loan term 5 years commenced July 2017 Current repayments 17495 per week I earn average 1550 per week total weekly expenses 680 Current savings 2500I read recently paying car loan early detrimental credit rating future lenders don’t see early payouts ideal Does anyone information Part wants put every spare dollar paying loan ASAP order stop paying interest extra 175 back pocket week However would lower credit score even I wonder I make extra repayments week order bring faster If I pay extra 150 week I worked pay loan year roughlyAny advice would best approach achieving goals Thanks advance! Advice go paying car debt',\n",
       "       'UBS Faces Money Laundering Fraud Inquiry Belgium',\n",
       "       'Title pretty much sums Im graduate community college associates degree cyber security I can’t decide I want go 4 year college throw money university I’ve thinking real estate school well flipping houses  I debt besides lease car Will  purchasing house soon anything else I that’s necessary far investmentThanks25 years old gifted 80000 What I',\n",
       "       'Hello!!ampx200BIll try make short!ampx200BI returning school Ive got GI bill paying tuition I told fill FAFSA anyway I may qualify Pell Grant  I filled FAFSA 2012 high school didnt get anything parents made much I didnt pay mind I figured I may well keep date ampx200BWell I submitted Monday I got email confirming processed  The page brings tells EFC 00804 I qualify 5000 aid Federal Pell Grant!!!  Ive tried research I cant make heads tails people talking I see people talking deadlines July I feel like I missed seems like approvedbut I dont know proceedampx200BI dont know Im taken year get community college level terms VA Last semester didnt submit referral I got boned day classes started    Am I late take advantage Pell Grant  Should I try get next year  Is junkmailesque You qualified 20 things need actually get grant  ampx200BThanks folks!!  First Time FAFSA totally lost',\n",
       "       'BSI Reaches Settlement Under Justice Department’s Swiss Bank Disclosure Program',\n",
       "       'I recently received something mail late due move SEC v Citigroup Inc wondering legitimate claim file While everything looks legit Im weary provide SSN part claim Fair Fund website CitigroupFairFundcom]CitigroupFairFundcom commentsCitigroup Fair Fund legitimate',\n",
       "       'So I became dad beautiful little girl I need add wifes insurance plan Im already wifes insurance This currently highdeductible plan since weve many doctors appointments past year + hospital visit several days child definitely going hit outofpocket max Even though child qualifying event I could change insurance plans Im sure Id want right Wouldnt better add current highdeductible plan things three us would covered outofpocket max met rather change plans My thought take approach October open enrollment reevaluate potentially switch copay family plan January 1 2019 Does anyone experience Id love hear thoughts areThanksMikeHow proceed adding child onto insurance plan US',\n",
       "       'Hi all! First thank much time reading advice may provide! I finished school starting job 60000 yearMy goals life wealthy shockingly I obsessed start ups side gigs Down road I want create passive income streams Right I think best build reserves cash assets Because I determining put This I working withExpenses Rent 1600 month I automated 1000 saved 600 going robinhood month 400 going AMEX 18 High Yield Savings AccountYes I need find side gigs get LOL! Though I like challenge want continue saving level Right I 16% going ROTH 401kI 6600 excess I would like invest I hold 3200 rent emergency separate amountI looking ways I could hold banks savings checking account Right I use robinhood I 2600 it43% SPY28% VT14% SPYG7% Cigna2% BILI2% BOTZ4% CashI 2000 coming vanguard Robinhood invest right another 2000 18% HYSA AMEXWhat thoughts strategy well future allocations moving forwardThank again! I super appreciate this!22 recent grad amp moved NYC 6600 spread future',\n",
       "       'Im mostly concerned using information open accounts nameA trash digger may possession personal financial documents old laptop Ive already changed bank password What else I protect',\n",
       "       'Ok Ill looking ACAMS Certification sent application How long take give approval Am wondering trying figure study length etc My department also without knowledge already purchased CAMS Examination Package Will matterACAMS application time line',\n",
       "       'I approved 15K personal loan 1299 3 years consolidate credit card debt I currently 17k cc debt paying minimum All three cards interest rates 20s I think loan going awesome allow ending sight get debt I want make sure Im overlooking anything good true Can anyone see downsides taking loan Thanks advance 15K personal loan consolidate debt',\n",
       "       'Background infoJust got married Age 27 wife 24 I make 50k Wife makes 35kWife I renting parents house Rent 500 month plan buying house 2 years 200k All rent money goes towards principalWifes loans9k @ 79% student loan11k @ 539% car loan3k split student loan @ 65% 35% I 40k liquid savings wondering smart pay loans keep payment house I put thousand highest rate loan Any suggestions Thanks!Pay wifes loans keep money payment house',\n",
       "       'Hi guys  Although I sitting big book I thought I might learn better reading iPad So I wondered anyone pdf Guide I download  Now I know I get ACAMS site  I tried working  I thought someone might  Any help  videosaudio etc  CAMS certified cats provide would much appreciated Exam three weeks  I cutting find study  Thanks advance!CAMS 6th Edition Study Guide',\n",
       "       'Treasury Scrutinizes Credit Unions',\n",
       "       'I recently obtained bachelor’s degree employed full time I concerned making loan payments well covering rest living expenses Here breakdown situationMonthly expenses510mo student loans 200 low interest stafford loan 310 high interest private loan 65mo auto insurance69mo cell phone150mo gas commute work get ~35mpg150mo food~100mo miscellaneous Income Paid every week ~980 deductions medicaldentalvision 401k @ 5% taxes Getting raise soon income change 1150 deductions Each month I get 120300 bonuses usually pick overtime I want Savings 8200 got insurance check painsuffering recent wreck I refuse touch unless I absolutely it’s right choice 3100 I saved covering moving expenses I find apartmentChecking account fluctuates usually 500 cover bills autopay take different times monthProblemI currently live parents want move even raise I left 1420 rent utilities internet etc right current income I’d 900 pay bills raise won’t happen March next year Bottom line I feel like I need refinance loans get lower interest rate nobody even consider My sister died senior year I got depressed dropped classes went parttime university automatically paid tuition “Perkins loan” I idea even existed I checked credit one day noticed 180 delinquency 4 missed payments My credit dropped 780 540 630 I’m considered high risk idea I expect qualify This happened 8 months ago I know late payment remain 7 years I don’t know expect getting higher score My car probably need replaced I’m financial situation I’d lucky I save enough one afraid even I could get high interest loan shady dealer due scorelate payment payment would high afford addition loans I guess I asking credit score start increase initially dropped January year Should I pay high interest private loans I stop wasting money interest try establish savings I’ll save I’m lost Crippling debt unable refinance',\n",
       "       'HSBC scandal holds Loretta Lynchs Attorney General confirmation',\n",
       "       'What would examples suspicious transactions involving Personal Trust Investment Management accounts I data analyst trying familiarize types accounts much little idea I even looking let alone account held bank custody could used ML Transactional Risks Personal Trust Investment Management Accounts',\n",
       "       'Fifas Sepp Blatter investigation US',\n",
       "       'Romanias corruption fight puts brakes investment',\n",
       "       'I opened first credit card last year Fidelity Rewards Card All earned money back goes IRA I love DWhen I opened first card credit score like 650 Ive time payments Ive behaved keep credit usage 2030% Last one I 29% moved get new stuffSo year 1 year credit history Ive gotten 726 Im happy trajectorygtbut Im wondering go What Im reading I need longer credit history gotta wait one lines credit Ionly 1 My 2016 elantra bought outright student loansdebts nameMy credit limit also 5000 When I got card year ago I making 66000 year Im making 123000 yearIm uninterested spending money also told utilization 2030% highgtshould I request bump What I bump Will helpIt seems like I nothing negative great I new wanting make things better!Credit score 726gtHow I continue raise',\n",
       "       'RBC’s Bahamas Unit Face French Tribunal TaxFraud Case',\n",
       "       'My fiancee I bought first home together After moved insurance underwriter decided need replace hvac system else drop coverage Apparently hvac 1972 old Go figure I wish told us closed Anyway nobody else cover us I wanted advice managing expense My fiancee I realtors 100% commission Our first quote came 5200 We start payment plan still serious expense us I hoping someone maybe knew program first time home buyers could help loan something I never dealt kind thing thoughtsEDIT To cause little less confusion I buying house I knew age air handler big issue But cost new handler+installation like 1500 I didnt think giant problem However I aware anyone else involved code requires whole hvac system replaced air handler keep effeiciency standards So 1500 issue become 5200 issueEDIT After much deliberation advice many I used emergency fund ac replaced next week Thank allHVAC replacement needed first time home buyer',\n",
       "       'Hi everyone I’m saving buy house Southern California I know lenders go finances fine tooth comb lenders generally take account future wagesI work union stable field big company Our contract making 68hr two years I currently make 25hr I’m willing stretch next two years order get decent house My question lenders even look type job situation I decide take riskFirst time home buyer future financials',\n",
       "       'US bid extradite exJPMorgan trader Spain hits dead end filing',\n",
       "       'Rand Paul Chides Naysayers Who Want Regulate Bitcoin',\n",
       "       'US Lobbying Firm Launders Azerbaijan’s Reputation — And Gets “Laundromat” Cash',\n",
       "       'Europe EU Releases List Tax Havens',\n",
       "       'Following Drug Cartel Money  What IRS Does',\n",
       "       'US Treasury Adds Sinaloa Cartels King Midas Kingpin List',\n",
       "       'If Trump Is Laundering Russian Money Here’s How It Works  Wired',\n",
       "       'Belgian Diamond Squad Police Chief Arrested Suspicion Money Laundering',\n",
       "       'Update I cancelled accounts bank Withdrew cash The temporary credit still account I deposited new bank The claim notification I got today said would debit account 91218 “missing” money However account money debit What consequences FYII still CC auto loan bank nothing else I made cash deposit bank ATM machine The machine froze transaction completed A claim started bank say money debited account What options prove stealing money essentially Do I options',\n",
       "       'Why Cecil The Lions killing money laundering amp simplified extradition implications',\n",
       "       'Hey guys   Just random thought I want answered Im 80k student loans I think either 30k 50k name sorry I dont hand credit card keep bumping limit I pay everything either time early credit score wont seem budge 750 I loans car home besides previously mentioned 2 phones Im paying Google   I wouldnt mind buying house next years need time put cash away want best credit score possible help along journey What I help boost credit Should I get another CC Take semilarge loan I comfortably pay   Side note I want fly times year maybe card gives points towards flying wouldnt hurt I use Amazon Chase card gas typically wrack 400 year Amazon rewardsHow push credit next level',\n",
       "       'So basically I rear ended parked car I dont want go insurance car I driving parents names mom actually crashed month ago accident Was wondering I know get scammed anything like The guy I hit said repairs would 68k damages I pay Im scared hes going take money go insurance anyway Any help would appreciatedBTW I hit car I called cops filed report Got car accident',\n",
       "       'So I filing taxes turbotax yesterdaylate I know I stripper made 15000 last year 13000 deductions I slept filing taxes I figured better late never While I filling information I claimed efile rejected IRS computers As turns dad already claimed dependent filed taxes Afterwards I went system changed infoincluding fudging income couple thousand dollars I could file dependent efile got accepted Then morning I went back Turbotax look forms initially generated 1040 form change I initially filed still said I claiming initial claimed income It seems electronic form submitted IRS So basically turbotax immediate system actual forms submitted match up\\u200bBasically I freaking last night parents know occupation would kill found I bunch stupid things turbotax system trying fix What I fix situation I want honest income I realize file claiming IRS probably contact dad get amend taxes Would dad able see tax information contacted IRS Do I need send 1040x irs amend efile Do I contact Turbotax Im ready pay taxes full circumstances parent find occupation I worried Any advice would greatly appreciated I 25 years oldSeriously screwed filing turbotax HELP!!!!!',\n",
       "       'FCA effective antimoney laundering strategies include wholesale derisking',\n",
       "       'I currently student I receive stipend twice year covers expenses I received stipend fall cover rent next 6 months I also part time job covers food expenses allows save money month My question money I received stipend physically sit I use YNAB I budgeted money rent I stick budget I won’t accidentally dip money Is waste money sit checking account I interested highyield savings account I worried I won’t able access money month order pay rent Any insights How handle stipend money',\n",
       "       'FATF Probes Money Laundering Risks Gold',\n",
       "       'Don’t Block Remittances Somalia',\n",
       "       'Bill Strengthen Asset Forfeiture Introduced',\n",
       "       'Pope Francis Financial Reforms Rattle Vaticans Old Guard',\n",
       "       'Former Petrobras executive charged taking bribes',\n",
       "       'GO!I personally want go PNC Chase I know works I want Ive beforecant use CU situation thanks!Open places I need deposit cash locally need online bankingcheck Checking account My savings Ally Im broke bitch I cant put like 1500 get 200 bonus guys I one maintain lot money bank account probably Im working itwhat I need get account PNC I fine Chase seems let anyone inChase vs PNC',\n",
       "       'The exam beta get results immediately test Theres 120 questions within 35 hours need ~~75%~~ 75120 thanks ulegbuster! pass exam The exam took 2 hours complete honestly lot tougher I expected I answer questions exam anyone hasJust passed CAMS 6 test',\n",
       "       'Hello personalfinance Ive never posted sorry I wrong Cant check rules mobile My fiancee I thinking buying house Shes 22 decided go back school full time work part time Im 24 work full timeOur income 8090000 gross depending bonuses Weve got roughly 2528000 saved The housing market around crazy Weve renting 1000+ month 15 years home prices still rising Wed looking 180220000 something enough space isnt run far south city based weve seen online Should try jump wait wife finishes school Is worth waiting vanother 2 years rent better idea location thats good jobs Or better find home move 25 years Any advice would really helpful! Are ready buy house 22 amp 24 Nashville TN',\n",
       "       'The Morning Risk Report What Would WhistleblowerMuzzle Case Look Like',\n",
       "       'The World Wide Web  New Frontier Fraud',\n",
       "       'I product manager writing specs new AML product would like input community If would like take offline PM I would love conversation youWhat important AML solution',\n",
       "       'US seeks funds tied North Korea eight big banks',\n",
       "       'Many Chinas MostWanted Graft Suspects Have Taken Refuge US',\n",
       "       'I thinking opening another Ally Account separate savings account Emergency Fund make easier manage Is bad idea since total interest rate would greater combining two How would keep track two amounts joint accountMultiple Ally Accounts',\n",
       "       'The detailsage 23 going 24Earned undergraduate degree 2016 debtCurrently make 46K current jobOne semester evening courses away graduating masters degree currently 18K student loans 75% Final semester costs 12KJust offered job pays 75K starts soon matches 401k 6%No car mortgage graduate student loan debt onlyI roughly 13K Robinhood account roughly 4K checkingMy QuestionShould I liquidate Robinhood account pay final semester school take another loan additional 12K finish school Does tax advantage holding student loan debt paying student loan debt interest outweigh lowered debt burdenAbout begin new job I save pay student debt',\n",
       "       'US Moves Increase Corporate Ownership Transparency',\n",
       "       'So FAFSA requires give Tax Informationampx200BThe problem parents havent filed taxes years live Social Security Disability extremely low incomes live separately make far less 25000 cutoff point either dodont need file taxes SSDampx200BOn top I cant even seem find information would go filing taxes make little SSDampx200BIn addition although parents married separated I live Mom I still give information FAFSAampx200BAnd since still havent gotten tax information Am I screwedampx200BHave Give Tax Info For FAFSA Parents dont file taxes live SocSecDisability',\n",
       "       'Long story short  total loss car accident days ago Geico saying supply rental car 3 days past informed car totaled My wife car I need new car get work I can’t wait Geico GAP insurance pay loan could take weeksWill I screwed new car I buy financing standpoint I even allowed get another carNew car total loss',\n",
       "       'I option receive 75k subsidized student loans semester wondering I take pay credit cards I stop making large monthly payments defer debt 6 months I school steady income I ~10k credit card debt 29k student loans I graduate December likely job making atleast 50k Should I get student loans pay credit cards',\n",
       "       'Robbery cash transportation business inside job court records show',\n",
       "       'More Banks Open Doors Pot Businesses',\n",
       "       'Basic InfoIn late 20s pretty good managing credit Missed one payment 32 days Discover around July 2017 I staying overseas family medical issue It paid I found Discover main credit card I use Credit score went 780ish 700710 Its back 730740Likely going take auto loan next year maybe mortgage year two I want get high possible Question How likely I able get Discover remove missed payment record credit history And best way I try talk Phone email letter etcIf unsuccessful long take missed payment 32 days hurt FICO score CreditKarma shows 780790 range FICO used way moreAnyone asked Discover Goodwill Adjustment recently',\n",
       "       'Hello all!  I recently broke AML field I looking furthering education parttime graduate program  I want get opinions best type degree field especially goals moving governmentregulator side  Would MBA JD something specialized Masters financeaccounting best  Graduate Degree',\n",
       "       'Banks Trimming Compliance Staff 321 Billion Fines Abate',\n",
       "       'Hi personalfinance!I’ve recently paid student loans feeling really good Afterwards though credit score dropped 785 769 The credit factors I car loan since 2015 credit card since 2014 never late payment anything I also got bad credit taken wasn’t mine dad I share name mixup I would think paying loans taking away bad credit would raise score lower Any ideas could beDon’t Understand Drop In Credit Score',\n",
       "       'HSBC settles moneylaundering claims 40m Swiss francs',\n",
       "       'I work bank credit counselor fancy name collections bba degree maj financeRecently aml caught interest opportunities come employer AML governance rolls I looking entry level courseTldr My 2 questions are1 Would CAMS certificate necessary entry level roll I overlooked twice even interview2  Based handbook degree gives 20 credits needing 40 exam  How else I suppose accumulate credits would banking job give credits AML rollThanks advanced Ill probably give call I get chance feedback appreciatedACAMS certification',\n",
       "       'Singapore stop issuing Sg10000 note deter money laundering',\n",
       "       'Oppenheimer says faces probes penny stocks money laundering',\n",
       "       'Recently Ive looking I want go career I get Army whenever may Ive narrowed fields main two AccountingFinancial Teaching I love accounting weird seems I always good high school college courses I took I feel like Id really like teach high schoolers possible sure Im ready demon spawn lower yearsIn search best path get best fields I ran across National Financial Educators Councils CFEI certification I looked little couldnt find much way reviews useful certification getting jobs I thought I would turn Has anyone taken course received certification If led getting decent financial teaching job helped resume jobsI aware certification substitute degree Education also leads ask I would go teaching financial literacy main subject I choose Masters Education routeIs earning Certified Financial Education Instructor CFEI certification decent idea scam',\n",
       "       '32 YO working well paid job moment I always worry financial situation life Always concerned living 40+ Am afraid wont get job work low salary Basically ANXIETY FutureOn side  I son I 1 appartment No debts Around 10K savings Also another apartment mother lives time Its hersAlso one rents outAlso one appartment 70 yo aunt lives alone family ownBasically 4 appartments end everyone I feel bit guilty thinking also already But general really worry anything financial wise future life much moment Unless become gambling addict somethingShould worried future',\n",
       "       'Ripple Cryptocurrency Company Wants Rewire Bank Authentication',\n",
       "       'Im start new job I making roughly 6k taxes taken I debt My housing paid I’m 21 years old I’ve never made money like I need guidance appropriately spend new income6kmonth 72kyearIn need financial guidance new job',\n",
       "       'I approved 6200 USAA car loan I decent credit seeing I don’t lengthy history due young age rate terrible 16% APR Should I get 5000 car 2008 Ford Escape try pay loan early I go find 1500 car buy someone warrantyguarantee last meBuy used USAA',\n",
       "       'Art Scandals Fail To Stop Record 20% Rise In Art Market Growth',\n",
       "       'Good afternoon First time posting sub internet searches get exhausting ads I’m looking specific product I’m real estate investor would like take HELOC help float cash house flips I’d rather refinance current rate quite good quotes I’ve gotten shocking My credit score around 710 I owe 143k mortgage latest bank appraisal 232000 I room I two main issues causing look specific product1 DTI 46% qualification needs ~50%2 Tax return shows business loss 2017 working refiling therefore banks count income skewing DTI 50% A lender verifies income w2s pay stubs solves issue Does anyone experienceis lender willing work qualifications I two renovations going right line borrow would sure help speed things along ease stress ISO HELOC 50% DTI W2 income verification',\n",
       "       'Equatorial Guinea Kleptocracy Case Lifts Veil Rights Abuses',\n",
       "       'Former Portuguese bank boss house arrest',\n",
       "       'I heard office 2 year vesting period could applied payment 5 year work period followed change job would rewarded 3 years vested matched contributions  I impression 2 years vested left 2 years 1 month would come   Which correct ever heard first scenario 401k 2 year vesting period',\n",
       "       'Hi I little bit ashamed ask advice since kinda means I cant handle shit oh wellI 21 Europe I come family 2 stable incomes I enjoyed good education parents paid college room meNow I recently decided I done college I want financially independent earn money start projects sideI noticed I idea budget save I never really worry money beforeI 2k account 10k savings I dont want touch money unless I really need fex I need car get work emergencyI live shared flat 2 friends costs 450€ monthI would guess I spend around 1k€ per month total right nowI bad habits make lot spending like takeout food weedHowever stuff like festivals concerts audio music equipment singing lessons books something I want save feel good I afford itI cancel subscription services except VPNSo I looking investing advice ideas build habit tracking expensesI feel like I focus negative every option end allBasically I need get shit together learn organize finances like adultWhat method Care tell Why like itAny tips keeping disciplineBecoming independent parents',\n",
       "       'My wife getting 41K inheritance grandfathers trust It mixture property stocks cash trust took care everything cutting checks Are tax implications need worry I don’t know falls lifetime gift limit fill form call dayI’m sole income earner I contribute 5% 401K plus company 5% match max Roth IRA debt mortgage 6 month emergency fund We’re thinking rolling 529 son Does sound like solid idea I saw contribution limits 15K per individual wife I could contribute 30K year rest next year Wife getting inheritance question 529 taxes',\n",
       "       'Standard Chartered Fined Singapore Money Laundering Breaches',\n",
       "       'My fatherinlaw recently diagnosed cancer He insurance hasn’t filed taxes 21 years 21 years!! This problem — lots reasons obviously — urgently can’t get ACA insurance without filed taxes His income 30k per year years He manages rental properties owned family ie name essentially collects rent pays expenses keeping what’s leftover 30k per year would generous estimate Is way ballpark tax liability penalties interest would To complicate matters house that’s paid — fairly large asset I’m assuming could seized My husband I trying get deal 15+ years since college Even 20 year olds knew needed get But doesn’t listen! Every year says he’s going take care never We love beyond words also know he’s always mess help much he’s willing help Any advice would greatly appreciated Fatherinlaw’s Back Taxes',\n",
       "       'Im trying settle argument coworker regarding include SAR In example individual deposits 50000 cash proceeds immediately wire funds elsewhere Should SAR total 50000 100000Question regarding SARs',\n",
       "       'Know Your Customers Customer Goes Global',\n",
       "       'Each services listed title prepaid cards I don’t understand purpose checking accounts debt cardsBoth optional savings account 5% interest first 1k account This I interested I thinking minimum avoid fees enjoying 5% interest rateThese hardly traditional account though feels weird use way Does anyone else use like thisAnyone experience saving NetSpendAce Elite Brinks',\n",
       "       'Money laundering sanctions North Korea',\n",
       "       'HSBC links Syria mean intelligence services would first queue examine leaked files',\n",
       "       'How Malta rolled dice online gambling supervision',\n",
       "       'Picassos Stepdaughter Accuses Dealer Olivier Thomas Of Stealing Works He Was Hired To Store',\n",
       "       'Italian Police Arrest 23 Fresh Crackdown Migrant Smuggling Drug Dealing Money Laundering',\n",
       "       'Argentinean Money Laundering Documents Unsealed Nevada Court Case',\n",
       "       'I got student loans paid looking get serious funding retirement I make 130k base pay 4050k overtime year My wife stay home mom I sole income I meeting company match 6% 401k plan changing max My question involves whether I contribute IRA HSA next A traditional IRA seems best higher tax bracket due overtime work I dont intend forever I wont receive tax deductions 119k income Would I best maxing HSA 6900 year insteadampx200BEdit mentioned sole income I income limit Roth IRA married filing jointly feel Roth isnt good higher tax bracket due OTIRA options HSA',\n",
       "       'Hey everyone I took Cams test earlier morning passed anyone questions test feel free ask! My background Criminal Justice Degree 1 year Financial Crime Investigator handling public assistance fraud cases I currently work local police department traffic accident incident reports Just 1 year working I banking industry knowledge prior CAMS I help anyone else similar background Study Method I online lessons ACAMS provides studied corresponding chapter book I go office depot print book like 3000 I highlight I studied using flash cards I found Quizlet mostly Test harder expected slowly read questions use entire 3 hours get I completed test spent entire hour going testHappy answer questions Passed CAMS!',\n",
       "       'Attack On Bank Of China For Money Laundering Screams Infighting In Beijing opinion',\n",
       "       'US citizens targeted extradition Haiti excoup leader',\n",
       "       'Crédit Agricole loses suspicious transaction case',\n",
       "       '2 PART QUESTION\\u200b\\\\ANSWERED\\\\] PART I Im trying judge much month I allocate new car line item sinking fund based I expect need new onePART II Based I might expect need new vehicle would wise invest car money meantime\\u200bI guess I could rattle specifics vehicle particular Im looking judgement criteria might help determine worth keep paying cost maintenance vs selling buying replacement Is certain breakeven point cost maintenance gt %value car longer worth keeping vehicle Something like How figure this\\u200bMy particlar vehicle 2001 Toyota SolaraPurchase year 2011Purchase value 8000Purchase mileage 45000\\u200bKBB value \\\\~2500 private partyCurrent mileage 110000Approx cost maintenance date lt1000\\u200bI routinely service small things like changing brake pads oil change Fortunately I major maintenance issues This car fantastic piece engineering worth every penny I paid Its prettiest thats sure damn gets A B without complaining If I purchase new vehicle Im definitely looking switch truck fitting lifestyle I able make I Especially low resale value plan run thing ground\\u200bSo Im trying make educated guess might I start planning personal budget decide whether smart move place money index fund If motorheads insight Id appreciate two cents Thanks!\\u200bEDIT Added part II questionWhats reasonable life expectancy car',\n",
       "       'I transfer larger university local community college 7000 saved last two years Im sure much money I save put towards student loans god knows next two yearsIll around 35k loans I graduate I imagine paying interest Im would good move Im sure much smart dedicate Im emt Im working getting weekend gig would net 150 week I live home dad Any ideas would greatly appreciatedFinances Junior College US',\n",
       "       'Authorities Have Confiscated 99M Hidden Bean Cans Shoes Even Stomachs La Aurora Airport Guatemala',\n",
       "       'Can anyone pls share good websites sample questions bank camsSample questions bank cams',\n",
       "       'CongoBrazzaville president burns five tonnes ivory fight poachers',\n",
       "       'Wells Fargo closed bank account I overdrawn 114 didn’t realize 70 fees I paid problem soon came attention I can’t reopen account Between focusing business accounts depressive episode I totally missed thisChase also denied account online due What I I debit card Any tips greatly welcomed appreciated!Bank account closed 114',\n",
       "       'Pot Bitcoin Companies Pay Steep Fees Bank Access',\n",
       "       'Age 26Salary 50000Student Loan Debt 43000 423% weighted avg interestMy company recently started 401k currently offer matching small company I portion company talk putting year end bonuses 401ks thats yet thing Ive putting 100 month 401k via Roth contributions currently 1800 thereIm currently working aggressively paying credit card car taken care 1 year nowOnce taken care I aggressively attack student loans put 401k If Im disciplined spending would possible pay 3 yearsSo I could potentially completely Credit Card Auto Loan Student Loan free time Im 30 concern I saving enough retirementWhat I redditStudent Loans 401k  What Should I Prioritize',\n",
       "       'Judge Asked To Unseal Reports On Alleged Sands Casino Ties To Macau Organized Crime',\n",
       "       'Deutsche Bank appoints new CEO latest postcrisis shakeup',\n",
       "       'Despite raids Macau pawn shops still help flout currency rules',\n",
       "       'Hello! I friend lets refer Sunshine shes well financially Yesterday went library I help start getting everything together lot moving money around I first made make copy spreadsheet post]personalfinancecomments8vt2wabudgeting_spreadsheet_maybe_it_can_help_someone We figured expenses paycheck would go expenses things like This spreadsheet worked wonders I told guide see wants money going future shes always going able stick thats I also made download YNAB especially since paycheck varies week week I made put average amount spreadsheet since helping money already also Credit KarmaAn overview Sunshines predicament\\\\ She gets 450week varies paycheck paycheck Half time bit that\\\\ 3K student loan still balance little 2K pay 80 month it\\\\ 5K student loan cant remember balance pays 60 month for\\\\ 15 Chase Credit Card payment pays minimum 25 month She maxed shes longer using paying minimum balance off\\\\ Her Credit score 618 missed payment one loans job didnt pay week  vacation getting two paycheck next week credit utilization 106%\\\\ Her checking account also negative 200 since didnt pay plus draft fee\\\\ She two different banks checking Chase TD Bank savings Chase 15So looked CK see much balance loan seems like shes actually paying minimum payment one I remember minimum 22 I told call people owes money see pay minimum balance loans instead start putting money toward paying credit card get way Right gets zero interest CC shes first year 0% APR shes since February I also asked rewards card doesnt really know remember promo said spent 500 first 30 days something  would get back I told call see whats I would like snowball process herBut CK wrong really pay already loans I adjusted budget paying regular amount 3K paying 1K end year And still adjusting budget maybe even go Me Sunshines friend going pressuring meal prep eat food home mother eat I know could saving much money wasnt I told Sunshine since Dollar Tree right could get starches frozen veggies go regular supermarket meats snacks fruits I also texted last night Why paying nails \\\\every two weeks\\\\] delinquent girl Personal care might mean getting outta debt stressfree Selflove = Eliminating debt And replied I right start nails eyebrows But I also told nothing wrong occasional paying someone else But maybe save times special occasions Also even though needs focused paying debts I also using paychecks solely saving emergency fund case something happens I believe prepared possibleSince I see every Friday Im really going case She also gets paid every Friday tmmr I helping use YNAB efficiently I made connect accounts yesterday allocate money receives paycheck And I continue helping adjust budget need I want move maybe joining Ally Bank better interest savings Capital One 360 would still like brick mortar depositing Were still figuring things I reassured going overnight process least making plan taking steps doesnt burdenedBut theres advice guys give tell anything Im missing would greatly appreciated Im 19 yr old girl I still dont know ropes much sub big help Oh Sunshine 21 Plus trying move next year I raisedbynarcissists year ago I really need space time heal I live control freaks I still cant doesnt live best environment either also save rent deposits furniture Not mention still want travel things young adults Again advice appreciated sorry long postNeed Help Making Sure Im Putting Friend Right Track',\n",
       "       'Credit Unions Seek Better AML Technology Celent',\n",
       "       'I reviewed lot apps really liked spendee recurring sync problems made look alternativesIf wondering dont need bank account linking country live people accept cash payments saving bank account credit cardBudgeting app cash transactions',\n",
       "       'Hi everyone! I interviewed new job basically everything went great except dont offer 401K match youve company 2 years I make 50000 pre taxes try contribute much I current job matches 7% I currently contributing 12% 6% regular roth could probably go bit higher I end staying The new job great opportunity I expect I would beyond 2 years point slightly better 75% match  It top company field Im trying break would great opportunity future growth resume future moves seems like Im missing quite bit money next 2 years Is crazy pass two years 401K match could great opportunity outweigh Somewhat related second question Should I increasemax 401K contributions thinking investing elsewhere I got advice recently seemed somewhat logical also counter idea diversifying investments I eager try investing thousand dollars I savings start learning ways disappointed hear adviceCompany doesnt offer 401K matching 2 years',\n",
       "       'I small emergency fund would cover ~46 months expenses Ive also recently paid debts time v eThe problem I know maxing taxdeferred accounts great idea make loads money long run I plan go ol FIRE route My problem currently maxing IRA401k leaves ~200 paycheck throw taxable accountReading The Simple Path Wealth author talks FU money enough money saved event happens recession job less etc isnt problem The author talks losing job 12 years fine well bunch moneyThis seems attainable I wasnt contributing taxdeferred accounts Considering penalties accounts isnt exactly liquid moneySay recession I lose job 2 years The job market really rough If I saving year maximizing tax deferred accounts would leave ~5200 taxable account less really thanks whole recession thing taxes lets say 2300Which terrifying amount would last maybe 3 monthsHowever I NOT maxing taxdeferred accounts taxable accounts say 1700 month Id much reasonable 20400 bank much easier work time unemployment time I want leave job bit etcIs risk assessment something deferred accounts would help situationsMaxing taxdeferred accounts scary',\n",
       "       'Maryland man sentenced 15 million waste oil scheme',\n",
       "       'The alleged drug kingpin behind “Orange New Black” Nigerian senate seat',\n",
       "       'Money laundering generic term used describe process criminals disguise original ownership control proceeds criminal conduct making proceeds appear derived legitimate source',\n",
       "       'Hi I planning give exam CAMS certification I gone ACAMS website still I clue less start studying I study I get study material etcPreparing Certified AntiMoney Laundering Specialist Exam',\n",
       "       'My mom pretty good money due speaking much english doesnt make much money She two cars bought cash selling older one moment debt 20k bank She makes 2530k year recently moved 950 apartment live free sisterShe zero retirement savings nothing employer The thing might get later late fathers social security sure yetMy dad passed away left house I sold got 40k fees taxes I want put IRA I dont think I one year Im thinking ROTH way go following reasons\\\\ Earnings tax free\\\\ A traditional IRA wont give tax advantages doesnt itemizeA I correct I missing something Is better way thisI wanted start IRA 51 year old mother Should I ROTH situation',\n",
       "       'Council Europe Romania doesnt enough money laundering',\n",
       "       'Hi everyoneI work Anti Money Laundering team year Please could anyone recommend couple journals webinars pertaining area It would help understand AML world lot better As always thank you!Looking journals AML',\n",
       "       'Ive thought interesting way look grocery budget late I want reduce grocery budget I spend  ~290 month Im one person I obviously improve But! Back theory Im someone needs ~3k calories sustain weight activity level That comes ~90k calories average month So 290 Im spending gets ~90k calories month Im roughly getting 310 calories every 1 I spend 90k calories  290 per month Now look foods buy try increase calories  1 For instance jasmine rice ~32 25lb = 32 252 servings 160 calories = 1260 calories  1 spent = 4x calories every 1Coconut oil coffee 11 333lb = 11 106 servings 140 calories = 1349 calories  1 spent = ~4x calories every 1Incorporating higher calorie foods diet easily drive budget Look foods calculate calories  1 I want get grocery budget 200 month I need increase calories  1 450 calories  1 Theory decrease grocery budget',\n",
       "       'I plan helping family member rent property This include collecting rent taking care insurances biannual property maintenance fees etcampx200BI spare bank account I plan rent paid bills paid keeping fund unforeseen repairs Everything else I transfer family memberampx200BThe bit Im unsure I need declare income Will I liable tax Im favour somebody isnt capable managing dont want shoot footampx200BProperty Letting  Tax Advice',\n",
       "       'I 10000000 Student Loan Debt Mostly Federal amp State Private My Private collections Pioneer Credit RecoveryLoan owned Great Lakes Both FederalState Private Loans threatening Garnishment Wages I absolutely cannot afford! I cant even afford make minimum Collection Payments! The Collectors I went Monthly Cost Living Expenses vs Wage 500 Im always late BillsIm exhausted terrified I dont know Im going see Financial Education Manager next week hoping helpAny adviceShould I file Bankruptcy',\n",
       "       'Well I debating best place would ask advice Ive seen figured fact best I hope Im right following proper criteriaAnyhow! I planning attending University program set specifically train airline pilots At end get 4 year bachelors degree ratings needed start career aviation The thing bit expensive traditional degree Its definitely much doctors lawyers lot others pay around 100k entire program possibly counting assistance I would need living expenses Im going full time Ive still grasped fully works funds come My biggest worry I get funding I need For long time pilots able get student aid flight training connected college degree program qualifies amounts rather large Im aware federal student aid probably cover much Im guessing wont even cover 13rd entire cost leaving rest whether I get private student loansMy main question hard qualify Im 20s anymore credit history built My score right around 625 It would MUCH higher Ive nothing derogatory credit report missed payments nothing bad credit utilization I 10k worth credit card debt 3 different cards I know I could pay credit score would increase would take years Id really like start path get going along career path I want build instead wasting time I hateIts really frustrating maybe Im overthinking Im bit worried I dont know Ill qualify private loans I happens Im approved amount I need I MIGHT option cosigner 1 person thats big maybe Their credit good retired I read cosigner needs great credit stable income Speaking income mine bit variable right I making pretty good year two ago bad 4 months back Since Ive Uber full time well odd jobs money worried If anyone shed light chances getting approved Id appreciate Thanks lot Some questions private student loans',\n",
       "       'Putins exwife linked multimilliondollar property business',\n",
       "       'I working year 401k balance around 5300 About 600 employee match I lose I leave I havent met vested requirements What happenwhat I remaining 4600 I decide switch jobsConsidering leaving job different one happens 401k',\n",
       "       'A months ago I went new eye doctor update prescription It simple eye exam nothing special I vision coverage asked health insurance card anyways They confirmed I coverage big deal I paid bill ~100 frontWeeks later I got explanation benefits letter insurance It showed I went eye doctor roughly 500 appointment I owed 30But thing I vision coverage I also exam described But weirdest thing date listed exam exactly week eye examI called insurance called doctors office I told billing error office would fix itA weeks later I received refund check I paid front  insurance said I owed 70I called insurance confused told call doctors office So I called really confused I called refund said would call back They yet callIt feels like fraud I afraid cash checkAnybody experience anything like Should I cash check something elseUnexpected refund doctor office appointment never happened',\n",
       "       'Colombian Rebel ‘Romance’ Means Gold Cocaine Flow After Peace Deal',\n",
       "       'Hello Ive worked education since graduating college Currently Im admissions director private prep school Graduated BA history Ive always interested investigationsfinancial crime would like make career change AMLBSA field But I experience financial industry What I need make switch possible Besides certifications CAMS etc I found masters degrees education programs provide clear transition field Thanks advance help!Career Change AML',\n",
       "       'I teaching past ten years I never found high paying salaried full time position company I enjoyed  Most time whats available part time positions arent dependable lack available work summer months  I end making 32000 year result complicationsI looking jobs online I seen fulltime pet sittedog walker positions pay 47000 year  I think pays less per hour yearly compensation would I would probably working 40 50 hours per week instead 30 hours week teaching  Ive never done pet sitting dog walking full time I done dog walking Wag one client  I quit wanted take dog dog park let run leash I didnt feel comfortable letting strangers dog leash anywhere  The company I applied isnt Wag local establishment better reviewsNot sure making career change worth doesnt look good resume I ever want go back teaching professional position somewhereThinking making career change ESL teacher pet sitter Worth',\n",
       "       'Swiss move Ukraine frozen funds claim',\n",
       "       'Im 29 year old Dentist Midwest After I graduated I worked hospital lived parents got rid student loans 100k cc debt 15k I fulfilled lifelong dream moving Los Angeles I know COL ridiculous But I pretty lost budgetinvestetc 401k Fidelity 16kRoth IRA 7kEmergency Fund 12k cash used bit moving traveling bitI make 700day work 5 daysweek 2 different offices potentially bonus kind like commission call production Taxes taken paycheck I believe I need pay taxes every quarter Not really sure To protect assets limited liability I forming PC specifically SCorp I filed paperwork hopefully running next month But thats whole storyMy expenses followsFixed Expenses RentUtilities 600 I live 2 friends 2BR friend owns KTown Neighborhood fun good food safest My roommates car got broken within week moving Auto Insurance 75 Health Insurance 250 Disability Insurance 100 Malpractice Insurance 100 Gas 125Variable Expenses Groceries 250 We hit CostCo pretty hard Exercise 200 ClassPass Golf Resturants 300 looking make lower friends I love food it’s one reasons I moved California Alcohol 100 Shopping Amazon 150 Misc 300 Haircut Car Wash Parking Coffee etc Travel 250  I like travel lot weekend trip every month roughly ~500Total 2800After taxes take home pay month roughly 8700So I roughly ~6k month I investing saving newer car saving house I currently drive 2003 Lexus ES300 110k miles Id like get newer used car year 2 What I afford Id also like buy house 35 years What I afford Since employer doesnt contribute 401k I contribute 18500 existing 401k 5500 Roth IRA But Im pretty lost Should I get financial adviser handle meIm grateful position I I know lot people struggling I feel behind compared friends working past 510 years living without debt buying houses growing wealth  Any helpadvice appreciated Thank guysJust moved California Please help budget investments savings allocations What I previous employers 401k new employer offer benefits Thank advance',\n",
       "       'Leaks show HSBC Chief Stuart Gulliver sheltered £5m money Swiss HSBC account',\n",
       "       'Im single 27 year old guy making ~70k year medium cost living city Currently I put 18% retirement company maxing Roth IRA About 35k retirement 18k bank 9k Wealthfront brokerage account Student loans paid debts I might want buy house eventually probably least 3 years Currently living roommates thinking getting place year Also I got new car last year200 month lease set transportationIts good problem next moves financially More 401k More brokerage account Also would open alternative investing like real estate crowdfunding much experience thoughSaving 15% retirement',\n",
       "       'Tunisia objects HSBC settlement Geneva',\n",
       "       'Right 401k fully invested target date fund 2060 The current share price 1298 Whats realistic number get time 2060 rolls around For example current share price 202020252030 fundsWhat realistic price per share target date fund get 2060',\n",
       "       'So make long story relatively short I called dentist schedule consultation orthodontic treatment I cleaning scheduled last Monday I found I 4 cavitiesI havent insurance 5 years result dentistWhen breaking pricing told cavities would fully covered insurance recommended two treatments early signs gingivitis My total copay 185 allI called today schedule consultation invisalign told mistake insurance I owe additional 240 I agreed filled I told insurance fully covered After student loan repayments bills etc I dont 240 Am I obligated pay What optionsIm sorry advance inappropriate forum If please redirect correct oneDentist saying I owe additional sum treatment earlier week',\n",
       "       'Indonesias extop judge gets life jail corruption money laundering',\n",
       "       'I started career last month amazing company I don’t know ANYTHING 401K besides told I need invest Currently I’m investing 6% company matching They said I contribute 16% they’ll match 12% Currently I earn 42k annually I’m paid least everyone I don’t degree they’re developing Paying go back school I likely see making 60000 years I see increasing even even without going school position much room grow training classes I take get I used online calculator calculatornet I put salary 6% contribution employer matching And also 3% pay increase yearly I estimated I’d retire 65 live 90 My question calculation seem right What “purchasing power” My company offers opportunities invest things I haven’t looked I know they’ve given stocks people free I’m looking I contribute ROTH thing honest I idea Should I anything else 401k I completely clueless I’m sorry But I would GREATLY appreciate help! ———— here’s calculation At retirement age 65 401k balance 916430 equivalent 316198 purchasing power todayWithdrawalIf withdrawing monthly 5905 per month withdrawn retirement 90 At 65 equivalent 2037 purchasing power today 90 equivalent 973If withdrawing annually 71689 per year withdrawn retirement 90 At 65 equivalent 24735 purchasing power today 90 equivalent 11814Total contributions318911Employee contributions159455Employer match159455Total interest1472321Total payouts1792232Edit sorry formatting I’m mobile 29yrs old  Only investing 401k Do calculations seem right',\n",
       "       'JeanMarie Le Pen allegedly kept €22m hidden Swiss bank account',\n",
       "       'Im currently working receptionist spa I path become manager job Im around 20000  debt I want get second job I pay everything back quickly possible I lot college credits completed I dont sort degree Im limited I work I also share car mother driving ubelyft needs use car things I working I would like something I home ideally part time im current job I type 50 wpm Looking Second job Unsure Where Look',\n",
       "       'PetrobrasLinked Money Laundering Probe Spreads Banks',\n",
       "       'The Volcker rule news bit moment But care',\n",
       "       'Hey I would really appreciate advice I graduated undergrad 25 years ago fortunate enough graduate without student loansdebt I employer city government since graduating I looking go back earn masters I earn 43600 per year breaks 1175 biweekly contributions 401k Roth 457 accounted My current monthly fixed expenditures follows600 rent utilities included420 car payment 220 car insurance 50 phone bill I spend 200 month gas 5600 groceriesfoodthis see potential cost savings I’m looking enroll spring semester schools I’m looking range 2235k entire program My employer cover 50% cost one class per semester 25% total cost What best student loan programs Is anywhere I cut spending help cost I’d like I graduate masters little debt possible Again adviceinput much appreciated Going back get masters need help plan afford',\n",
       "       'Can Bitcoin Conquer Argentina',\n",
       "       'Sheldon Adelson lectures court tales triads money laundering',\n",
       "       'N Security Council Takes Aim At Islamic States Funding Sources',\n",
       "       'Who’s Santa’s naughty list Top FCA fines 2017',\n",
       "       'HSBC Sued Over Drug Cartel Murders After Laundering Probe',\n",
       "       'well missed 4 months nelnet student loan payments  didntt know put deferment since unemployed 11 months Well since 120 days overdue macys jcpennys cards credit limit loweredBefore June Macys 800 credit limit JcPennys 1200 In July went around 500 dont worry thought month went back 900 1200 August How would I go improving credit based pictures imgurcomDdywNRnimgurcomyaSzop0imgurcombSux7nHimgurcom4gRIFaKimgurcomMFaeXWpimgurcom4KprGqzimgurcomoE32mXcimgurcomrPFEhnhimgurcomeDxw5I4imgurcomkFgOrAqimgurcomoK9WXRDimgurcom9Pe8RgEimgurcomQhtCV1fimgurcomlmStiTKimgurcomMj1GVgYimgurcom8U7fWdBI need help! How would go improving credit score',\n",
       "       'I research reading personal finance  although I definitely need look I tentative plan moment opening Roth IRA Charles Schwab initial investment 1000 I interested Charles Schwab mainly dont minimum investments mutual fundsindex funds My initial thought drop 1000 SWPPX SampP 500 fund I looking input decision Is Charles Schwab best choice investment move since I toss small amounts money I go better option I missing  Something Im considering I would greatly appreciate input advice!Edit I want say thank everyone offering advice! I still thinking appreciate advice people come I leaning moment towards putting money Charles Schwab 2060 target index fund since seems fairly comparable target fund options sign bonus  Would appreciate thoughts people have! Thanks!Opening Roth IRA  considering various firms looking advice Do I go Charles Schwab lack minimum investments mutualindex funds',\n",
       "       'Chicago area company charged exporting importing military components China',\n",
       "       'I never filled one I w2 forms As side job I started delivering grubhub Grubhub tracks miles resteairant house person ordering My husband told soon I’m car heading restaurant I’m driving business I need make sure log total miles Is correct wayAlso I need keep track total earnings paycheck week imgurcomvGZUyGAMy tips everything included final total I still need count tips Or would I say total earnings 6571 Or I subtract tip amount total “actual earnings” I know I sound dumb I trying make sure I track everything correctly I don’t want mess taxes I thinking I total grubhub contributes tips make even minimum wageQuestion 1099 form',\n",
       "       'My friend never done taxes She worked personal assistant quite years paid cash entire time Shes working restaurant w2 last year She wants fill FAFSA form school needs tax documents years prior Shes asking help I idea start Any thoughts 25 year old friend never done taxes Shes going back school needs tax documents Where start',\n",
       "       'Update Just talk mom She’s current process getting home equity line credit told she’ll give money pay debts long I promise I won’t spend money likes I’ll repay back I’ll make sure I make budget stick get rid credit cards! Thanks advice Hello hopefully okay post  If let know Ive never handled money well I Im finally starting learn lesson  I currently owe 500 two credit cards one interest rate one least worries  I also owe almost 3000 Best Buy credit card moms name let use  I wondering getting personal loan even possible good step take  Id use loan pay Best Buy card first 500 Discover IT card credit card doesnt interest  I working part time right I also go school  Im getting lot hours work right I told today hours may going coming month  If I dont get hours soon I looking new job  I really appreciate advice I get  Thank all21 debt I',\n",
       "       'Hi friends Ohhhh man This frustrating\\u200bSo Mr goblinywonder I thinking buying house last year Weve casually checked credit scores Mintcom]Mintcom CreditKarma past year everything always looked fine usually showing 750 close mine 760 In Dec 2017 opened joint credit card last credity thing Otherwise weve always paying things time havent opened closed lines credit keep credit usage 20% though also uses credit card bigticket items like flights work etc  always pays entire balance every month We debts\\u200bWe started talking mortgage lenders theyre saying Hubbys credit score actually 680  WOMP WOMP Namely Equifax says 680 TransUnion says 730 Experian says Unknown  We checked Experian \\\\not\\\\ credit freeze WTF The lender said cant share credit report pulled us !  payments look time thing Im seeing new credit card Dec 2017 So WTF Where 680 come We tried pulling three reports annualcreditreportcom]annualcreditreportcom got denied three  flying blind idea whats report idea score suddenly dropped \\\\~50 points matter days since \\\\_just\\\\_ checked scores CreditKarma last week Obviously given kinda ONE TIME need scores good  ie buying house  sucks stressed\\u200bWhat What SHOULD do! Why f score drop like crazyBuying first home Husbands credit score dropped 750 680',\n",
       "       'I 403b employer savings account emergency fund vanguard brokerage account full indexes amp stocks  The Vanguard roth retirement setup account  If I plan selling stocks holding others dividend reinvestment  What better strategy  I dont plan liquefying accounts prior 35 \\\\~ 40  Should I also open Roth Vanguard brokerage roll thats possible Roth Traditional Brokerage',\n",
       "       'UK territories ordered open secretive companies',\n",
       "       '54 year old female I financial life planned til Recently divorced 2 kids college well  My job pays bills I live frugally plan live apartment retire 65ish enough personal happiness I run investmestsmoney age 95Then last year kids major mental health crises At point sure ever decent employment may need help financially caring parent One moved funded wealthyish dad stop soon Dad wants cut ties soon This hard accept But money question wonderful community I adjust finances begin helping Is advice insurance long term care investing adapt What would doMy kids went insane',\n",
       "       'This could long story  There many factors  For sake reader I going try write cliffnote version  Was finally awarded full custody Son last year really hurt savings  I ex heroin addict 7 years clean child born save couple trips ups beginning  His mother I tried make work  We didn’t know  It drunken oops night  When I came rehab son born moved 1200 miles away  I didn’t see son year  Everything I owned trash bag  I mid twenty’s  I rented room father took minimum wage job  The least I made since I 16  So I saved every penny started looking ways make money side  The receptionist works husband broke iPhone screen bought new one tried repair  He gave I asked I could tinker  She brought pieces  Screws small need magnifying glass  I researched watched videos amazingly enough damn thing back together worked  I took back said keep  He already got new one  That phone worth 12 A weeks pay  This cell repair shops every block  So I searched craigslist day would buy broken iPhones 4060  20 new screen digitizer  Resale 200  If I box Wall charger cord I could get 225 person would buy many I  I ended spending evenings buying iPhones messaging buyer sitting McDonald’s repairing 46 time  He would meet hand 1000ish cash  Eventually I quite bit money saved  So I began buying trailers carsi learned value ton items anything made 25% profit would sell fast I bought  Then I got I knew  Oil field  Business took fast I quit  My net profit insane   But I getting paid net 4560  I business young loan  I started 30000 15 years bank evaluated 12MM I turning work I also debt free except trucks  So I asked dad I knownever work family  I saw money assumed would trust I knew I based numbers  I operating 3 states   My son mother moved back hated much I worked  another reason I thought family would different  They could see relationship rocks  2 years 7 days week I never took day  So dad condition brother come  I fought fought whatever I owned shares dads infusion made majority  We didn’t use lawyers  I didn’t want pay capital gains taxes much gave  Oil tanked I diversified enough survive came back recently  Also took another job help pay company bills  Then got frustrated brother making nothing except changing company policies questioning run things  We still green I got sick treated like I didn’t know I  So I  told I wanted silent partner collect quarterly checks  My brother ran company ground February dad going file bankruptcy   So I quit job condition things  In January 35000year gross  Bleeding money  I came employee started   Slept truck 12 nights week save time  From January July I raised yearly gross 400k rising  I target 65  While working 200week try get debt  Hired 2 employees office lady rented us  The deal I salesman manager  Nothing left sell I account executive  Any good salesman knows you’ve peaked don’t really work much  Just keep building relationship dinner occasionally phone call I’d make weekly rounds bullshit big guys  Somehow family decided I drugs  I offered pay lab test sort day  They didn’t care  So vehicle company  7 months making 200 week  And day I went put payment truck lawyer called  Sons mother requested fingernail drug test dating back 8 months  Funny coincidence huh  Passed way NO way beat He need top retainer  That Savings I left  I live town 1200 people  There work  DHS online won’t work  Office 20 miles away  I 0 friends workaholic  I contract company pay 120kyr cap company vehicle etc  brother told everyone I drugs  Word gets around I know many people industry  I hadn’t signed I needed talk lawyer acceptable travel time sonIf wasn’t family I would literally company brother would paying restitution slander defamation  I’m going sue family   Only paper somewhere I still ownership  I’ve week utilities start getting shut offI’ve broke  I’ve homeless  That doesn’t worry  I could go hop job right it’s 100% travel I can’t lose son againAny suggestions would awesome I’ve never found corner I couldn’t get I don’t see one time time important stickyshitty situation I’ve gotten Myself inTLDR worked family got fucked good chance I’m going lose custody sonBroke single father fighting keep son Lost everything except roof heads',\n",
       "       'Africa smugglers’ paradise North Korean diplomats',\n",
       "       'Combating money laundering Big Data analytics',\n",
       "       'California Bans HSBC From Deposit Program',\n",
       "       'I full time role large corporation making pretty good salary plus bonus benefits etc A company I’ve interested long time another large corporation offered contract role 1824 mo I don’t know anything comp  benefits yet I’m looking perspective Would dumb move make switch full time contractor Are significant tax differencesAppreciate thoughts  opinions  experience Opinion Contractor jobs',\n",
       "       'I 25 years old im looking advice else I money I feel like I missing opportunities much cash hand Here current investmentscashVanguard 41000 split Total Stock Market Index Total International Stock Index401k 41000 split Large Cap Index MidSmall Index US Debt Index I contribute 20% employer contributes another 8%Im 85% stocks 15% bonds totalOnline Savings Account 160000 This obviously I gone wrongI currently live parents rent free paid car Other monthly expenses low mainly gas groceries phone misc I currently making around 90000year I moved yet may need move another state work within next yearI want set future Any advice greatly appreciated25 years old looking general advice current situation else money',\n",
       "       'Im obsessively running numbers I feel option drop classes I signed forIm paid biweekly average 750paycheck taxesMonthly expensesRent 500 tiny room shared house Lowest Ive found cityUtilities 125mo living shared house much I itCar insurance 155mo work requires I car Im young booted parents insurance hence high numberGas 100ish I said work requires carFood 200 month Im extremely stingy live major cityTuition would 200 every two weeks 10 weeks 5 paymentsCan I make work I really dying go back school doesnt seem possible quarter Is anyway I afford going back school community college',\n",
       "       'Ive used Ally Invest amp Robinhood Ally Invest cool I got overwhelmed functions amp extra stuff Robinhood good manuel No drip investing Decided switch Acorns amp I like far Might try Stash next Are simple desktop platform similar mobile apps Or stick mobile apps I long term investor Possibly invest 2530 years Either pulling 50 60 Want spend money enjoy   Possibly My way investing invest amp forgetSimplest platform investing  Buying amp Selling Stocks',\n",
       "       'Please share thoughts links opinions Malta’s role global money laundromat especially light horrific murder journalist Daphne Caruana Galizia last week Malta’s role global laundromat',\n",
       "       'Hello personalfinanceSo I teacher public school I found school district offer 403b matching They claim reason district offer matching already pay extra state pension systemI already maxed IRA year I dont know put money nowOn one hand I feel like I could still put money 403b would give tax sheltering I dont feel like putting money plan connected district theyve already annoyed On hand I feel like opening brokerage account although I would tax sheltering I would total control would connected rather districtThe end goal able retire earlyMy Employer offer 403b Matching I already maxed IRA Where I put money',\n",
       "       'A Small Barracuda Big Pond New Yorks Department Financial Services',\n",
       "       'Tong leader Shrimp Boy Chow accuses San Francisco mayor bribery',\n",
       "       'In Egypt exmilitary men fire Islamist insurgency',\n",
       "       'Citibank fined 70 million antimoney laundering compliance shortcomings',\n",
       "       'Hello PFI currently employed technology company servicing printers managing copy rooms 1450hr I also Army National Guard I finished annual training assigned trail portion home station city basically clean assignment I acquaintances work fulltime Guard various ways One acquaintances connections someone works city needs someone fill position regular employee deployment I recommended acquaintance sent resume scheduled meeting tomorrow discuss job allow ask questionsThe deployment 9 months long long I would taking position For unfamiliar guard works Active Guard Reserve positions AGR ADOS temporary Tech positions like government contracted civilians Obviously regular drilling soldiers well This position called GS07 could great foot door fulltime position government Federal State Army National Guard If offered position Id making lot money I currently short time possibly opportunity open door road I good job Do I take job Or stay company I working currently Ive employed couple weeks I dont like idea burning bridge I dont I feel like sort opportunity wont come around long time allAny advice appreciatedCurrently make 1450hr full time position opportunity take 21hr temporary militarygovernment related fulltime position Do I take temporary position',\n",
       "       'So gf sold car year half ago guy left somewhere towed They trying get 2400 doesnt pay tow company sue double Is anything The new owner apparently didnt transfer name car handed pink slip I dont know else would calling instead new guy We cant afford cost want us pay The debt collectors calling every day Thank advance help Debt collectors calling car I sold year ago',\n",
       "       'I good credit typically make around 100000 per year I gone self employment part I make 100000 Currently I income though moment I unable work pursuing clients I health back I medical emergency year unfortunately I able put credit cards use savings I process wanting pay What kind steps could I take get control debtI owe 19000 one 450 monthly payments 17%5000 one 140 17%and 7600 140 per month 0% change 20% Apr 2018My rent 500 per month utilities I dropped cost living I debitAdvice pay debt quickly methods get interest rates I pay back fasterRecovered health issue income time Going back work I pay quickly',\n",
       "       'Lord War producer Christopher Eberts pleads guilty fraud money laundering case',\n",
       "       'Basically little less week ago I got accident totaled car Nobody hurt vehicle minimal damage Basically hit right speed angle fucked alignment bent front end frame They wanted call police make report stupid part since didnt proof insurance Besides point liability My insurance covered damages I havent heard anything insurance company Does able provide proof scene make I wont covered Or fact fault Ive told different things different people Some say Im screwed say I covered even though I fault Im totally car right cost fix would double car worth So I basically fuckedGot accident party proof insurance We liability Should I covered insurance',\n",
       "       'When Im bored Im prone spend money things I dont need eg buying online seamlessHow approach convincing dont need things staying disciplined Id like get point Im much fun saving I dont feel need buy thingsEDIT Some awesome responses Really appreciate everyones input!Mental Hacks Avoiding Spending',\n",
       "       'I currently working job I make ~55kyear She going making 80kyr I know still girlfriend technically wife we’ve talk I honestly believe woman I marry We wanted wait graduated I intend propose within year  I 50k debt student loans car She debt free wants reimburse mother education next years   We live comfortably income alone don’t plan inflate cost livingI’m wondering best course action would moving forward Investing paying debt etc My girlfriend graduate job lined increase household income double What first steps',\n",
       "       'UKs big four banks face extra £19bn fines analysts predict',\n",
       "       'JPMorgan Defeats Investor Suit Over MoneyLaundering Lapses',\n",
       "       'Phil Mickelson Wired 3 Million Bookie Who Then Got Nabbed Money Laundering',\n",
       "       'Luxembourgs Euro Note Love Affair Raises Eyebrows Over Taxes',\n",
       "       'Pretty straight forward I left job earlier month take new position different state  still living state previous employer I around 18k account I dont plan withdraw I dont want take penalty Just wondering options aside three I think  1 Keep 18k right 2 Roll entire amount new retirement plan new employer 3 Rollover 5 18 Roth I order fully fund 2018 contribution amount 1 2 remaining 13k Not sure factor 35k student loan debt 30 years old New Job What retirement previous job',\n",
       "       'Hi PFThrowaway account Anyway I turned 28 job full year receiving full time offer yesterday 75kyear plus benefits Im ecstatic credit shot last year I worked odd jobs pay rent pay car eat last year havent paid credit cards personal loans etc months All credit cards closed due nonpayment I third party collection agencies handling accounts personal loans charged andor handed third party collectors etcMy monthly expense besides food rent+utilities 900month please dont judge dad offered help phone car payments Im fully back feet much less debtI 12 credit cards APRs ranging 929% totaling 15k debt A lot debt form late fees missed payments interest chargeslate feesmissed payments last monthsI 8 personal loans totaling 20k debt insane payday loan APRs anywhere 35% 200%Anyway questions1 Do I contact cards loan companies I contact third party debt collectors 2 Am I better saving I pay debt full I ask I put payment plan 3 Do I try negotiate amounts especially since lot money I owe interestfees actual loancredit amount How affect credit report I settle negotiate downThanks help give meWas job full year My credit score 480 Got job offer yesterday need learn start rebuilding credit cards closed loans closedcharged offdebt collectors etc',\n",
       "       'I 23 year old girl living Alabama I getting 7 year relationship abusive manipulating I job experience I debt I nothing name except associates My dad always allowed stay well suffers financially He asking anything I starting everything scratch Because I got relationship young I learn anything finances real world matter Any advice would great Please help 23 Year old dire need financiallife advice assistance',\n",
       "       'So basically I one credit carda amazon prime rewards Ive using since I 18 Im 19 Ive never checked credit score I went open new card Capitol one got approved took credit wise account says I total available amount 35000 current balance 15000 alerts information dark web Is accurate I one card 1200 credit line fully payed My credit score super tanked Ive never missed payment cardVery confused credit card report',\n",
       "       'Currency smuggling rise Fiji',\n",
       "       'I supposed moving college tomorrow I haven’t able secure loans Because I’m planning going major approve relatives refused help loans After federal loans scholarships I still need 20000 I called student loans consultant Wells Fargo I credit score won’t allow take loans without cosigner If I still want attend college I pay 9th I already contacted financial aid office unable help told try applying loans family doesn’t support decisions I overwhelmed I don’t know Any advice would really appreciated My family refuses cosign loans college I credit score',\n",
       "       'Im assistant manager retail company also pharmacy When got promotion position I given wrong title I called HR get fixed erroniously gave small raise I went manager soon saw told I wasnt sure given Recently manager different store went leave absence I chosen run store meantime Normally assistant manager gets temporary title change pay increase compensate increase responsibility However manager holding erronious raise head im getting pay increase Im afraid I call district manager HR theyll request pay back earnings erronious raise Should I still ask pay increase let goAn increase responsibilities increase wage',\n",
       "       'I got done CAMS6 beta exam There 215 questions Before I took test I read usually 120 questions  I also didnt get results afterwards Is normal beta examsHow many questions CAMS exams',\n",
       "       'Ill try make short possible I 25 began working straight college 22 I around 70000 student loans worked social work related field brought 30000 year I credit card debt living rent free parents recently I also car loan around 11000 3 years left I never missed payment I refinanced private loans My credit score around 770My husband nearly 30 working passing bar exam comes wealthy hard working background He 80000 savings currently another 200000 trust fund another 100000 investments He full time job several years He friend startup law firm They bringing good amount clients However taxable income  I guess technically self employed His debt car loan 9000 His credit around 650 due negligence behalf years ago He also lives rent free relatives house Now two weeks ago got married I quit job move 6 hours live state unemployed 3 weeks We staying rent free relatives home continue needed We looking apartments realized would probably save money buying home instead NJ We completely new home buying process I aware need proof income I wondering options  even options unwise Im curious I fortunate situation I know much longer I take living relatives home We would like get soon possible Any advicedirection appreciated Thank youEdit oh yes I looking job Had interview recently waiting hear back though would pay 35000 Hoping get job state insteadWhat options buying home',\n",
       "       'DOJ PROSECUTED OVER 2700 HUMAN SMUGGLERS IN 2014  MOSTLY IN TEXAS',\n",
       "       'Here’s background My credit score 643 according Discover FICO score 633627 according Credit Karma yes I’m aware take CK’s scores grain salt! I currently 3 credit cards Discover card secured 200 limit0 balance Credit One Visa 850 limit0 balance Credit one MasterCard 800 limit0 balance So questions1 increasing credit line help hurt score My CreditOne Visa 600 limit I JUST got approved 250 increase it’s 850 limit Does accepting credit line increases card help hurt credit score Note I never carry balance cards amp pay every month I’m much worried spending habits accepting increase curious whether higher lines credit affect credit score all! 2 one I trouble understanding If billing cycle ends 9th month mean I pay balance BEFORE date show statement 0 balance So I pay 8th I know kind dumb questions I’m navigating financial freedom roller coaster w little guidance I want make sure I know hell I’m doing! Thanks!!!!  Trying understand efficiently utilize credit cards someone help please ',\n",
       "       'Im thinking maxing 401k year Im sure works employer benefits My employer contributes undetermined amount end year part yearend bonus If I personally contribute 185k year mean employer doesnt room contribute wellCan employer contribute additional amount 401k Im already contributing 185k limit',\n",
       "       'My company 401k savings plan Charles Schwab managed Morningstar Im currently signed Target Date fund adjust assets I grow closer retirement Im currently 95% stock 5% bond Im still 40 years awayMy investments fees listed SSgA SampP 500 Index NonLending Series Fund Class N    30% allocation    02% operating expense    10 year 1018% return SSgA Russell SmallMid Cap NL C    28% allocation    05% operating expense    10 year 1065% return International Equity Fund    22% allocation    48% operating expense    3 year data available 733% return Vanguard Total Intl Stock Index I    15% allocation    09% operating expense    5 year data available 602% return SSgA US Bond Index NonLending Series Fund C    5% allocation    05% operating expense    10 year 372% returnLast quarter I paid 17 flat fee every quarter Plan Administration Other Fees 31 Individual Transaction FeesMy personal Rate Return 525% year 135% since 2016 I opened account To inexperienced eye fees seem reasonable RoR nice Should money okay managed fund would I better choosing stocks bondsThis question stems resources board opening eyes switching Betterment Vanguard order save fees Im wondering similar situation\\u200bEDITGoing back transactions Ive charged following fees 1% every three months Managed Account Service Fee Currently 120year 01% every three months AccountingMisc Service Fee Currently 12year 05% every three months Recordkeeping Fee Currently 60yearGoing transactions Im paying 192year fees Im sure much I reduce managing accounts Im going find outampx200BSECOND EDITI spoke representative Charles Schwab I paying following fees excluding operating expenses  55year Recordkeeping  13year LegalAuditMisc 45% Account Management feesThe 68 standard 45% disappear soon I opt management program select Investments I plan research opt within next monthCharles Schwab 401k managed Morningstar Can I trust',\n",
       "       'Apologies isnt right Reddit closest I could think find help Our car merged another car highway party left called police Now insurance refusing continue liability investigation client call police station get police report amended Were going three weeks accident week since first told amending police report play Is anything I make continue liability investigation Its slam dunk liability cant get rental total loss check conclude investigation accept liability Insurance Refusing Assess Liability Until Police Report Amended',\n",
       "       'Ive saving retirement years When I started I put money one Vanguards target retirement funds Now I money saved time think Id like move personalized strategy takes advantage Vanguards admiral funds My question I think I know answer hoping personalfinance creative tricks I dont want pay tax gains portion investment held taxable account way convert current target retirement investment admiral shares option invest new funds admiral shares keep target retirement investment Getting target retirement fund',\n",
       "       'Just paid car 4 years early yay While I dont technically need second job delivery driver anymore I still student loans I could pay early Thing I HATE second job Once I quit I never go In fact since first job customer service I would rather work people second jobWhat Im looking side jobs I preferably home thats requirement I really want couple hundred extra month And NO CUSTOMER SERVICEPart time jobs home Or dont require customer service',\n",
       "       'Chinese Billionaire Linked Giant Aluminum Stockpile Mexican Desert',\n",
       "       'Trial Begins Art Forgery Case Against Knoedler Gallery',\n",
       "       'Are Indias rising meat exports providing cover money laundering',\n",
       "       'Im late 20s contributing 457b Plan means I withdraw money without penalty I leave employer I intend stay long I also regular investmentsId like put money work Are taxadvantaged savings plans I others take advantage ofIll throw stuff Firsttime Homeowner Business Startup K12 Education College Education MedicalHealth Anything else nonretirement relatedThanks!What TaxAdvantaged Savings Plans Available Out There PreRetirement',\n",
       "       'This might tad lengthy I apologize My girlfriend I looking opening checking accounts local bank separate spending accounts better budget money They cash back offer also open kind line credit loan something Basically anything make money We established lines credit tad average debt burden 3000 5000 better average credit scores 700+ Our APR current cards high around 22 percent Were thinking consolidating using one options lower APR current debt reset current cards back zero My question pros cons line credit new credit card personal loan Im leaning towards personal loan whereas shes wavering line credit straight new card Obviously lower scores bit lowering average credit age else keep mind Any guidance greatly appreciated Transferring debt',\n",
       "       'So July I noticed strange transaction CreditDebit card 700 I disputed charge small hometown savings loan bank took care It looked like card got compromised created SC account sent money I cancelled card got new one I also signed document bank stating charge bogus Everything fine yesterday bank called told whoever challenging dispute 700 WTF ! What end game brass balls Someone trying scam using Square Cash Plot twist  I never used Square Cash',\n",
       "       'Rising marijuana sales leave pot shops flush cash can’t deposit',\n",
       "       'I never situation I decided I want work home I hate job working kitchen It kills I gotta survival! 11hNow I offered job 21h training 30 hour two weeks With 45 hours week Data entry customer serviceOnly problem want start tomorrow! So I left options Should I play safe stay current job go job What scam The company Veta Health Should I abandon job better one I paranoid',\n",
       "       'I pretty convinced I would complete CPA PEP reqs CPA PEP pass CFE work attest couple years transition forensic accounting However I ran someone tremendous amount experience AML also CPA mentioned CPA overrated I obtain CAMS insteadampnbsp I sure like anything life multiple ways get want go I two years performance auditing experience undergrad masters science statistics background Alas I Excel Wizard unfortunately Can someone forensic accounting AML describe entry level jobs look like I suspect I want investigator How get started Forensic Accounting AML',\n",
       "       'Judges bribed military arms sought Mafias alleged Australian operations',\n",
       "       'First I sorry I sure type question gets posted time Second Im Canadian I starting apologizingampx200BSo I 2005 Nissan Frontier 160000km I purchased truck year ago 10000 bit lemon Since purchasing I put \\\\~4000 breakdown repairs I facing repairs suspension needs replaced well brake pads rotors calipers The estimate brakes 2300 I I around 1000 I still need get quote suspension I cost around 1300 parts plus alignment cost Parts Canada expensive often order states exchange rates shipping sucks The windshield also needs replaced I get done 200 insuranceampx200BThe question I try sell vehicle I still owe 10000 I constantly repairs I able sell around amount The truck older I bought get bush go climbing spots end going pretty accessible vehicle I mainly worried repairs coming I tired putting money I need car get work vehicle isnt option right ampx200BI appreciate input I feel emotionally involved right make unbiased choice whether sell notampx200BRepairsTires + alignment 1100Lower control arms 1300Radiator 450Idler pulley 300Fuse get tow diagnostics 500Side mirror vandalism 90Tail light vandalism 140ampx200BTotal 3880Should I keep truck',\n",
       "       'My current company amazing pays higher industry medical device I got REALLY lucky current salary wont able get much anywhere else lack experienceProblem I’m contracted contract ends end Sept I want stay applied positions HR gets many apps mine still hasn’t looked atSo question I risk unemployment wait current company review app Or take lower pay 1520k lower great company start right contractDo I take lower pay risk unemployment higher pay',\n",
       "       'Man charged money laundering Singapore previously accused swindling Citibank S27 million',\n",
       "       'I recently put add Carscom vehicle Someone responded days agreed price He said town would touch returned area In mind deal seemed settled That weekandahalf agoYesterday I got message someone asking vehicle still available purchase I havent responded yetNow technically vehicle available whoever I want sell private market After one signed binding contract anything like But I obligated way wait first guy respond Is appropriate length time wait getting person line If I say yes second person get better offer I go one What would reasonable welladjusted individual ThanksSelling car privately How deal multiple buyers',\n",
       "       'Man admits role law firm scam says funneled 25M via 38 accounts last year',\n",
       "       'Hi everyone need help decide thisSo I young got car title actually mom The car paid long time ago FYI So mom troubles Shes debt actual car got towed paying bills Shes best trying get back insurance I driver insurance expired Im driving everyday fearing cop screw My mom get car shes back get insurance says hold What I Should I car title transfer How much would cost Would better wait since insurance could cheap As title mentions I live FL Im debt depending much transfer I might able Please let know guys Moms insurance expired My car name Should I title transfer Need Help! Fl USA',\n",
       "       'Dirty cash seizures rise Canada cracks money laundering',\n",
       "       'Brazils Petrobras Scandal Yields Surprise Bounty MuchBuzzedAbout Art Exhibit',\n",
       "       'Alleged Silk Road Creator Ross Ulbrichts Fourth Amendment Rights Were Violated Lawyers Say',\n",
       "       'So month half ago I deposited 5000 I counted twice I 4200 hundreds wallet I casino put additional 800 hundreds make even 5000 I went inside bank deposited 50 bills atm machine said insert 30 bills time I read late machine said I deposited 4000 Confused I cancelled deposit came 40 100 dollar bills I talked representative helped call number file claim A month later I get letter says claim unsubstantiated I called said overages I called asked I could see footage I figure camera able see thickness bundle bills ejected wasnt bundle bills I initially inserted They complied yesterday I came refiled claim start new investigation asked I could see footage The footage side opposite atm meaning could see back head I didnt realize second camera  wall right ATM reason footage wasnt shown It seems sketchy   Is anything else I point I asked representative claims line I could get footage auditing process make sure nothing  malicious going like employee pocketing money said would ask higher would call back It seems hopeless point Capital One ATM Miscountedate money month late Bank claims overages I',\n",
       "       'FinCEN Identify beneficial owners',\n",
       "       'Benjamin Lawsky step top NY financial regulator',\n",
       "       'FinCEN Warns Financial Institutions Guard Against Corrupt Venezuelan Money Flowing US',\n",
       "       'Money laundering burden yet hit Australian property market',\n",
       "       'I sophomore state 4 year university After grants loans I accepted I looking 1700 dollars loans leftover I dont pay 6 months I graduate 2021Last years debt totals 5000 years total sameWhat I money I thinking placing somewhere gain interest therby somewhat helping pay loans I graduate I also use textbooks Leftover Federal Direct Subsidized Loans',\n",
       "       'Im curious everyones opinions contributions 401k IRA Lets assume eligible Roth IRA contributions cannot deduct traditional IRA contributions You position contribute 185k maximum 401k 5500 maximum IRA Your expense ratios funds available roughly even What contributions much would makePersonally I feel benefit situation would make 401k contributions maximum pretax IRA contributions Roth You cant benefit deductions pretax IRA contributions theres point Then since already 5500 going Roth IRA maximize pretax 401k benefits Do think otherwise not401k IRA Contributions Roth vs Traditional  Your Opinions',\n",
       "       'I learned Rule 72 basic understanding covers situation initial amount untouched aside reinvesting interest If correct doesnt include additional investments formula For exampleI invest 1000USD assume 6% interest reinvested AND I want invest additional 1000USD yearHow equation change including condition additional annual investmentsIs Rule 72 equation includes annual investments initial amount including assumed reinvestment interest',\n",
       "       'I got offered 10000 ISOs startup part job offer completely familiar means Can help understand questions I need ask informationWhat questions I ask I offered ISO Incentive Stock Options Startup',\n",
       "       'Waving Cash Putin Sows EU Divisions Effort Break Sanctions',\n",
       "       'So I moved back parents house month ago save enough move live paycheck paycheck After paying rent I 1700 left paycheck per month Im horrible money havent clue tactics I use save money effectively HelpMoving back home looking save enough place Help saving',\n",
       "       'China Crackdown Illegal Money Flows Sees 450 People Arrested',\n",
       "       'I read good article The Economist  economistcomfinanceandeconomics20180825areyouastockorabond]economistcomfinanceandeconomics20180825areyouastockorabond  says financial investments take opposite sort risk compared job This common concept diversification If earnings fluctuate performance economy diversify away investing lowrisk bonds And vice versa hold stable lowpaying job take liberty put risk portfolio buying stocks In way human capital seen alongside financial capitalYour financial investments complement human capital',\n",
       "       'I applied credit card online It approved right away I received two cards mail one address one parents address I never put parents address application My parents cosigners Both cards different numbers they’re card I’m calling bank tomorrow I’m curious happened couldn’t find anything like online Is possible I two cards different limits Or account one card void How could happen!I received two credit cards different numbers bank glitch',\n",
       "       'So due number life circumstances include slew bad luck medical family costs divorce bad decisions I significant debt Im hard time balancing situation  Today I major appliance break whole situation really requires deal  I fairly high income earner I also ton debt I havent able refinance theres much  Here general categoriesStudent loan  11500Mortgage  378000Other loansfinancing  161000As far assets I 300K 401k 10K Roth IRA 13K regular IRA 3000 savings account Im using today aforementioned appliance repairIm spot I basically pay payments little left live honestly huge huge huge source stress running things close zero every month means last week two really tough  It keeps night I worry Im one emergency away financial ruinIm really thinking pulling money retirement accounts pay debt 161K  I clear 12K month payments amount Im paying interest Im ever able actually get ahead Im churning  Im late 30s I know never good pull money retirement accounts I dont feel like I live hanging head anymore  I also live high cost living area  Any thoughts  Id really appreciate advice causing lot anxiety related issues    Debt problems  I tap retirement accounts',\n",
       "       'I sold gaming computer ebay buyer paid Paypal They filed dispute Paypal saying computer arrived broken My Paypal balance 2000 I already spent 2000 I dont bank anymore Theres way I pay back quickly What canwill Paypal Im really freaking nowEDIT Ive opened claim UPS Paypal Both places asked either get PC back get pictures proving broken shipment well pictures listing showing good condition I sold Ive contacted buyer let know Ive opened claims requested send computer back I gave return address let know I wanted proof shipment sent I also mailing certified letter buyer reexplaining giving specific date I want computer returned I post update I info Thank everyone posted advice US] Paypal account balance 2000 What',\n",
       "       'JPMorgan’s new approach probing suspect transactions sparks internal friction',\n",
       "       'So Im currently financing car loan 40 months annual interest rate 2499% I clueless time parents ones got signed deal The amount I financed 759257 I payed 12 months far monthly payments 284 Now I recently found subreddit realize I could refinance Im trying figure Im good fit itMy credit score currently around 704705 inquiry hit 710 applying credit card got approved another 1000I saw credit karma gave refinancing options autopay 234% IFS 274% Chase 469% However three would extend term 6 months making 28 months 36 monthsBut Im sure trustworthy I hit banks actually get offers person see I get better I even get betterRefinancing Car Loan',\n",
       "       'Hey thanks advance help I’m 25 year old college grad currently loss proceed There many online budget tools available I’d like able talk real human help set realistic standards provide guidance Is place Summary debt issues I 14000 credit card debt looming two Chase cards nearly maxed I 20K student loans low interest rates recent promotion jacked monthly payment 350 dollars I missed payment I also small personal loan Upstart taken cover moving costs break left apartment family health emergency traveling expected That loan 5K low interest rate well I large amount 401K already good employee match program work I think I manage student loan personal loan issue would budgeting problems salary I didn’t massive credit card payments cover reducing credit card debt could put place I wouldn’t lean I earn sizable bonus end year isn’t early December pay debt I don’t think I make til even minimum payments Where find help making budget amp paying debt!',\n",
       "       'Clay Roueche loses another US appeal bid',\n",
       "       'Ive employed current company 9 months Ive risen unofficially lead current  help desk team There currently 4 us team One us employed company several years appears comfortable position knows resolve issues company experiences sticks low level support work The 2 newer 4 months 1 came position I one came higher level The higher level tech leaving us week I would like ask position raise I also discovered us I make least amount I least work experience well I tasked higher level work scripting security server access etc I confided friend also works company admin advised leave company I received commendations work company told Im goto important time sensitive tasks capable team boss admins well I come early asked stay late needed shown capable willing go extra mile company The level two tech also showed incapable handle work given I took conducted simpler tasks The issue I 6 month review I given 5% raise promotion I believe largely due management changing month promotion new manager unfamiliar teams work members part therefore I express concerns review time My question I ask promotion raise tech leaving fact I make several dollars less techs pushing towards leaving based workload responsibilities comparison payIs good time ask promotion',\n",
       "       'The great British money launderette 19 UK firms investigation 20bn money laundering conspiracy',\n",
       "       'Many Banks Cut Clients Over Money Laundering Fears',\n",
       "       'Hi everyone Ive recently decided try earn CAMS certification Ive read varying accounts much studying required anywhere weekend three months! I wanted ask community input Thank you!CAMS study time',\n",
       "       '2016 International Narcotics Control Strategy Report  Money Laundering Financial Crimes',\n",
       "       'Trump says Russia helping North Korea skirt sanctions',\n",
       "       'Got tons great info couple people offering help Thank consideration!My antidepressant recently got switched doc sitting pharmacy I need pay 15 copay money next week Any ideas quickly get small amounts money paychecks',\n",
       "       'Im paying 50mo 10year term life 1 million State Farm I shopping around I think Im getting ripped I see 10 year 1m terms go 2030I 25yearold male Never smoked drinked alcohol life Help Thank youUS Am I getting ripped Life Insurance',\n",
       "       'Thai authorities impound assets Siamese rosewood smugglers',\n",
       "       'New Arrests Coming Soccer Corruption Probe  Investigator Says',\n",
       "       'Hello everyone I quick question anyone would kind enough chime I year AML entry level experience I want get back field There arent droves AML positions area though My question whether getting certified ACAMS would significant help trying break back industry TLDR CAMS certification worth someone trying enter fieldThank all!CAMS certification',\n",
       "       'Cyber Risk Anti Money Laundering Bribery Corruption seminar  23 Nov 16',\n",
       "       'Bitcoin Must Be Seen Money Laundering Potential  Finma Says',\n",
       "       'I checked credit score 698 Last time I checked 34 years ago 740 I credit 8 years 2 credit cards use far less credit limit pay balances full every month  never missed payment I graduated doctorate May 280k student loan debt currently employed making 200k year  I car fullWhat caused credit score decrease Does seem unusual anyone  How I find specifics happenedThanksWhy credit score low',\n",
       "       'thank everyoneBefore begin I aware I penalized deed done personal reasons I cashed Publix stock today The total amount I got 2763 change My marital status single I dont childrendependents Im 23 years old full time college student income bracket capping around 20000year Is anyone tell exactly much I expect penalizedI took Publix Stock',\n",
       "       'Bubble could burst boom bank compliance units',\n",
       "       'How misuse SWIFT MT 202 fuelling financial crime',\n",
       "       'Reported moneylaundering cases 24% Switzerland',\n",
       "       'Not sure allowed pls delete ok ampx200BMy husband quit job 2 months ago go back school I sole earner household us two Should I resubmit w2 less taken paycheck If I I owe tax season ampx200BThanks!Husband quit job go back school I sole earner Should I change W2 Im CA',\n",
       "       'Hey guys Im young attorney experience criminal white collar law ton unfortunately Im strongly considering getting AML Ive applied bunch jobs Im starting get sense little experience law degree arent enough I guess question taking CAMS exam make getting job field much easier even little experience Do know many lawyers field Thank help!Getting AMLCAMS examination',\n",
       "       'Moneylaundering case Indian iron ore exporter',\n",
       "       'Im looking set forget interested long term growth I dont know much different funds available  I 12k invested spread around Principal apparently generating 397% PRoR Im sure I put everything single index fund My current employer provide contribution match current future contributions going toward paying debt Any advice money I already invested 29 years oldMy current allocationFixed Income Guaranteed Option  254284  2080%PGIM Total Return Bond R6 Fund  229736  1880%T Rowe Price Institutional Large Cap Growth Fund  97853  801%Vanguard EquityIncome Adm Fund  150021  1227%Vanguard 500 Index Admiral Fund  62440  511%American Century MidCap Value R6 Fund  43887  359%DFA US Small Cap Value I Fund  43502  356%Janus Henderson Triton N Fund  18814  154%Vanguard Mid Cap Growth Inv Fund  18610  152%Vanguard Mid Cap Index Admiral Fund  43286  354%Vanguard Small Cap Index Admiral Fund  43621  357%American Funds EuroPacific Growth R6 Fund  216186  1769%Index funds availableVanguard Total Bond Market Index Admiral Fund]secure05principalcomRetirementServiceCentememberviewpage_name=investmentdetailampcat_name=indvampMODE=QUOTEampticker=VBTLXampSYMBOL=VBTLXampinv_name=Vanguard%20Total%20Bond%20Market%20Index%20Admiral%20FundampInvestmentNumber=4906amprc=20ampInvTypeQualifier=1ampcontract_num=806449ampid_num=81NZiDYND2aYemzOtpr1MQ==Vanguard 500 Index Admiral Fund]secure05principalcomRetirementServiceCentememberviewpage_name=investmentdetailampcat_name=indvampMODE=QUOTEampticker=VFIAXampSYMBOL=VFIAXampinv_name=Vanguard%20500%20Index%20Admiral%20FundampInvestmentNumber=4441amprc=20ampInvTypeQualifier=1ampcontract_num=806449ampid_num=81NZiDYND2aYemzOtpr1MQ==Vanguard Mid Cap Index Admiral Fund]secure05principalcomRetirementServiceCentememberviewpage_name=investmentdetailampcat_name=indvampMODE=QUOTEampticker=VIMAXampSYMBOL=VIMAXampinv_name=Vanguard%20Mid%20Cap%20Index%20Admiral%20FundampInvestmentNumber=7188amprc=20ampInvTypeQualifier=1ampcontract_num=806449ampid_num=81NZiDYND2aYemzOtpr1MQ==Vanguard Small Cap Index Admiral Fund]secure05principalcomRetirementServiceCentememberviewpage_name=investmentdetailampcat_name=indvampMODE=QUOTEampticker=VSMAXampSYMBOL=VSMAXampinv_name=Vanguard%20Small%20Cap%20Index%20Admiral%20FundampInvestmentNumber=7760amprc=20ampInvTypeQualifier=1ampcontract_num=806449ampid_num=81NZiDYND2aYemzOtpr1MQ==Vanguard Total International Stock Index Admiral Fund]secure05principalcomRetirementServiceCentememberviewpage_name=investmentdetailampcat_name=indvampMODE=QUOTEampticker=VTIAXampSYMBOL=VTIAXampinv_name=Vanguard%20Total%20International%20Stock%20Index%20Admiral%20FundampInvestmentNumber=13815amprc=20ampInvTypeQualifier=1ampcontract_num=806449ampid_num=81NZiDYND2aYemzOtpr1MQ==Thanks PFWhere transfer current investments Principal',\n",
       "       'I attempted applying starter credit card Capital One online asked send photos ID SSN I started worry would fudge somewhere Sure enough I given response letter I denied due incomplete infoI bank Chase yet build credit theres Capital One bank I live well Im wondering despite banking another company I walk inquire secured credit card reapply person My hope I sit actual person I apply Im likely basic info go successfullyIs possible Thanks!Since application Capital One secured credit card failed online I physically visit Capital One bank apply',\n",
       "       'When comes topics virtual currencies cybercrime Trumponomics name presents interesting dilemma extent conversant areas order fully understand financial crime risks associated',\n",
       "       'Russia Retaliates After Canadas Magnitsky Sanctions',\n",
       "       'Ben Lawsky We Can Police Dark WebBitcoin',\n",
       "       'Hey guysampx200BI guess Ill start going quick things kind explain I situation I Two years ago I got altercation brother us drinking even though want press charges state  long story short I ended receiving 3rd degree felony ampx200BI spent 6 months jail released early due good behavior promise go rehab said drinking Completed rehab probation patient programs successfully As soon I completed I figured I could still get life back track I work ass rightampx200BI went back school got associates I choose major Ill super close bachelors well I able find job last May enjoyed months  suddenly changed W2 job 1099 I selfemployed contractor working company Again things werent badampx200BI making pretty decent money  weeks I made nothing I never fearful \\\\might\\\\ happenampx200BI ended purchasing car November last year About two months later CEO company let everyone know closing I able find job call center worked end May  beginning June sudden company I working said JUST got background back unfortunately could longer keep employedampx200BFast forward today I received 14 different job offers past month half EVERY SINGLE TIME without fail background check rescinding offerampx200BTLDR I car pay real freaking skills besides able speak phone I scared Any adviceJust little overwhelmed',\n",
       "       'Capital One Says Subpoenaed Over AntiMoney Laundering',\n",
       "       'MPAA Wants Sue Pirate Site Hosting Providers',\n",
       "       'The London startup rebooting remittances',\n",
       "       'My education nightmare I waited sophomore year switch major I wanted get degree went chemistry CS one top university region Then met girl broke heart sending spiriling depression I failed 2nd semester junior year got put academic probation Then still mentally fucked I failed 1st semester senior year finally got boot start 2nd semester senior year Although I would still another year anyway since I switched major lateSo I 60K 30 federal 30 private hole degree I want finish eventually would take horrible academic track record I live home pay 750 total month loans like 37% monthly income I dont know I afford go back get debt I really need get degree cause I make decent money job im path upwards forwardsI flunked college im already hole Should I try finish',\n",
       "       'HSBC closes Muslims accounts',\n",
       "       'Brooklyn Federal Prosecutor Sarah Coyne Moves Debevoise',\n",
       "       'HelloIm planning entering field I need basic guidance Someone suggested I write AML exam first ACAMS certification getting experience field There many different websites offering AML certification exam Im sure one take Or better course school instead online I done bachelors Commerce masters HR MBA After I also done course International Business ManagementI currently working logistics compliance 4 years fieldI also want know kind job opportunities I get Toronto ON AntiMoney Laundering Exam AML',\n",
       "       'Ill try keep short sweet My mortgage recently changed new company Ive home five years currently renting I plan moving back I considering selling requires repairs I cant afford right This company sent notice mail saying I estimated 79K equity might consider cashout refinance I could really use moneyampx200BI guess Im asking worth look My tenants rent paying mortgage already This first home Ive owned Cash Out Refinance Smart',\n",
       "       'South Florida woman sentenced trafficking counterfeit goods money laundering',\n",
       "       'Hi everyone! I thought would fit better studentloans given grad school works bit differently So week I received loan disbursement refund law school However school failed inform yesterday scholarship decreases amount federal loans I eligible My loans follows academic year yes year semester My semester loans would numbers halved 20282 Federal Direct Unsubsidized 19930 Federal Direct Grad PLUS After scholarship applied tuition paid I received 5863 use living expenses semester comes 1172 month And thats massive glaring issue My bills rent 750 phone 142 car renters insurance 219 total 1111 leaving 61 gas groceries books incidentals etc I live two roommates Ive tried get phone bill success My car paid Im rural area I need keep That obviously going work So I My program prohibits working way I would time I worked fulltime undergrad problem law school curriculum killing I feel I need around 2000 per month live comfortably constant stress would mean borrowing 30000 total private loans make happen Should I take additional private loans cover living expenses I look private loan servicer I 5000 savings I would like touch possible I outstanding credit undergraduate loans existing debt whatsoever I 3 cards balance combined credit limit 14500 I also worried debt general If I somehow avoided taking loans I dont see thats possible I would owe 108062 My tuition drop instate rate next year year expensive Someone please offer words wisdom Thanks advance! In Law School amp Panicking',\n",
       "       'dating back 93 Are still active I going go bank get exchanged  They actual British postal order notes Found old British pound notes',\n",
       "       'Im taking unsubsidized loans OSLA I get letter every I idea Id even begin repay check things like online Is website something code Im supposed enterWhere I see current student loans andor begin pay',\n",
       "       'Good morning allMy wife I planning moving Kentucky within next months wondering taxes compare two states As know Tennessee doesnt state income tax whereas Kentucky led us told several people losing large amount money making move It pretty easy find income tax rate Kentucky seems counties cities thier income taxes wellampx200BCan someone help compare difference two convince arent going losing bad toldampx200BFor information purposes keeping current jobs incomes remain Will moving zip code 37083 42101  Thanks advanceKentucky vs Tennessee Taxes',\n",
       "       'US sanctions Venezuela vicepresident trafficking claims',\n",
       "       'Written Josh ChristensenEnacted two years prior EU Fourth AML Directive goes effect EU memberstates June 26 2017  Expanding framework brought Third Directive Fourth Directive focuses strengthening obligations pertaining customer due diligence rules beneficial ownership identification politically exposed persons PEPs gambling regulations tax crimes cooperation national FIUs Financial Intelligence Units The new Directive seeks meet amendments made revised FATF Recommendations published 2012 also goes beyond international requirements expansion transparency beneficial ownership corporations The identification beneficial owners longstanding issue regards international AML CFT efforts criminals continue find techniques mask trail money movement ultimately disguising true beneficiary illgotten gains The European Commission focused general interest daytoday operations EU seeking compromising settlement comes increased CDD EDD beneficial ownership documentation identification regulations Their position line business economical interests reflect internationally held view toostrict due diligence identification rules hinder economic development The counter position every countrys best interest identify beneficial owners customers financial nonfinancial entities assist global effort antimoney laundering counter financing terrorism Money laundering widereaching negative effects trickle putting millions lives risk daily human drug trafficking black market sales cartels corrupt governments The movement illicit funds damage integrity stability reputation financial sector threaten internal market Union well international development 1 Per Fourth Directives goals identification verification beneficial owners relevant extend legal entities legal entities obliged entities look natural persons ultimately exercises control ownership means legal entity customer 1 A common tactic wish mask financial activity includes making beneficial owner registered entity another legal entity In years past seen sufficient enough albeit loophole due diligence processThe FATF defined beneficial owner natural persons ultimately owns controls customer andor person whose behalf transaction conducted It also incorporates persons exercise ultimate effective control legal person arrangement 2 The line consumer privacy proper identification individuals utilizing global financial system business constantly redefined balancing laissezfaire constrictive approach International cooperation among FIUs crucial development implementation processes 1 Verbiage Fourth Directive found eurlexeuropaeulegalcontentENTXTHTMLuri=OJJOL_2015_141_R_0003ampfrom=EN2 Verbiage FATF 40 Recommendations found fatfgafiorgmediafatfdocumentsFATF%20Standards%20%2040%20Recommendations%20rcpdfFourth EU Money Laundering Directive In Effect June 26',\n",
       "       'Deutsche Bank Takes Action ‘Significant’ Suspicious Russian Trades',\n",
       "       'Let first begin saying I currently employed first job ever obvious title Also important note I based USI interview previously position bank And recently I got offer bank I negotiations regarding pay Theyve decided give I requested earlier The pay significantly  I currently get paid I get paid 2200monthly right new offer 2850monthly A mistake I I told salary exactly I didnt increase little bit I didnt feel safe lying Ive seen people mention I want advise future However things making hesitant whether accept new offer 1 First new pay worth move distance I driving longer 30 minutes approximately So I driving hour minutes total2 I currently work shifts I find best routine I dont weekends like regular people When family partying fun I working night shifts The new offer says I working 83 monday friday3 My boss likes make extra work outside shift Sometimes I drive meetings days spend extra hours working I dont get compensated hours I dont problem working extra hours learn new things however shitty get compensated Also sometimes I work sales IT 4 I work IT Security I find everything easy challenges Its I genius I feel like I hit plateau work learning curve going anymore Note I company less year 10 months approximately  The bank offers scope work5 My boss says likes depends much I feel like I accept banks offer boss probably match pay offered bank However I get matched I strongly believe I handed new responsibilities friendly relationship manager little toughYour advice highly appreciated friendsNot able decide quit job stay',\n",
       "       'Investigators Are Scrutinizing Newly Uncovered Payments By The Russian Embassy',\n",
       "       'Im currently paying 550 rent one roommates get along whatsoever I feel anxious around willing spend move I make 53000 year pretax student loan payments month totaling 560 My car paid mom helps phone bill insurance since expensive Michigan name Illinois What Im wondering since rent income calculators percentage based net income I spend rent considering student loan paymentsThinking moving want know',\n",
       "       'Edit Theres coming offer currently unknown pay  coming Monday  Received offer today elsewhere The offer 250 less previously made moving across state Was making 15 1250 offer  education field  non teaching role Im asking friend I dont many details  My friend doesnt know negotiate offerHow go negotiating pay offer How much initial counter Asking general clarification',\n",
       "       'G’dayI’m Australian citizen currently living working Canada I’m planning sending money back Australian savings accountIt seems like isn’t way without losing lot value bank fees exchange rates Is way go I stuck whatever bank charges meWould multiple small transactions better lump sum transferDoes anyone idea income tax implications would transfer substantial sum overWhat best way move money internationally losing least exchange rates bank fee',\n",
       "       'Spains indicted princess faces asset block',\n",
       "       'I business year sole proprietor transferred LLC opened bank account business picking I’m furniture cabinet makerAnyways I’m considering getting business credit card current offer 500 cash back spend 3k first 60 days I need make large purchase anyways 12001500 I figure I put monthly expenses card I make 3k requirement without purchasing anything I wouldn’t normally Is bad idea logic sound since I’m spending money anyways I’ll come ahead The card annual fee I plan pay course New business need advice credit card',\n",
       "       '1 Title question 2 What state income taxes Do I file form Im gonna use Turbo Tax year I wonder automatically deduct 100% income taxes I DO file federal form If I live state income taxes ie Nevada I still file Federal tax return',\n",
       "       'Vegas casino’s attempt collect debt exposes shill game world Chinese highrollers',\n",
       "       'Using AI enhance transaction management systems via segmentation alerts + typologies',\n",
       "       'How work Do I get taxed twiceI US citizen expat living Germany getting job Do I pay taxes Germany US',\n",
       "       'Shabab Militants Learning Kill Shoestring',\n",
       "       'How untaxed cigarettes lead funding terrorism',\n",
       "       'My fiancé borrowed 10000 One Main used truck collateral He bad credit question Are loan options He wants take another 10k loan pay One Main since lien truckI told I idea thought I’d come ask Thanks! Fiancé used vehicle loan He bad credit Does options get loan',\n",
       "       'I passed CAMS exam December I’m considering another certification I’m midcareer 5+ years somewhat AMLadjacent experience less 2 years directly countering financial crime I’d like continue expand expertise demonstrable way I work federal sector private company would reimburse coursestesting fees My spouse working degree addition fulltime work makes homelife studyingfriendly next couple years So low opportunity costsIf shoes would tackle next The CFCS I’d lying I said I excited CFE The ICA Certificate Managing Sanctions Risk sounds applicable I’d want pursue I went wholly private sector seems less well known UK Redditors please correct that’s inaccurate One advanced ACAMS modules Other ideas My MA relevant I’m still paying I’m looking certs rather degree programsThere handful threads asking recent CAMS experiences I went self study route I read book listened audiobook commuting bought AML Assassin unofficial practice test days exam make sure I track pass It roughly 13 general information international AML governing bodies policies 13 common sense compliance exercises 13 kind obscure There’s one question I know I got right I happened read 4th EU directive morning recalled specific detail question asked It required study pretty straight forward Happy answer general questions!Passed CAMS What cert next',\n",
       "       'I Wells Fargo TCF Bank We moved Minnesota Michigan Wells Fargo banks scarce Should go larger bank smaller bank Any suggestions We weren’t leaning direction though recommended Chase We credit cards respective banks well Should closed They next money left pay I’m 25 starting new job working industry year The new job pay we’re also interested hearing money investment wise My wife school sizeable amount student debt I’d happy answer questions I appreciate answers suggestions New wife I merging single bank account What provider I go',\n",
       "       'Spanish judge denies bail former top banker Mario Conde',\n",
       "       'Turkey focused fighting terrorist funding says Finance Minister Simsek',\n",
       "       'My current financial situation I 0 debt car paymentits 2014 50k miles pretty good I think 30k bank yeah I know thats another issue take home 4000 month taxes etc  Due life changes I selling house walk away 25k mortgage paid offIm 28 always wanted downtown living experience I looking apartments local downtown  A couple caught eye 1300 1400  Would I stretching thin would consider budget\\u200bThank help!\\u200bPaying much rent',\n",
       "       'Short summary Bought new mattressbox spring guest room good today Received phone call stating glitch system required undercharged Thing makes little fishy fact gave additional discounts stuff day taxfree weekend week charge taxes First day I went set everything different mattress bank closed I needed approve payment Bank 247 line I came back next day original mattress I agreed stock day seeing one 3x price Had friend fly Florida I left options besides agreeing Two weeks road say I owe money due glitch happening system weird sat explained every single priceampx200BNot sure Feels like trying get pay extra requested I paid phone soon possible  Question regarding undercharged',\n",
       "       'As student who’s budget already looks tight I’ve started I need app something that’ll help figure money going Reading reviews looks okay tracking direct debits looks good Just personal experience maybe alternativeStarting University Is Yolt good',\n",
       "       'Ok I received notices Chase fraud purchases showing card 300000+ This clearly I called Chase caught 34 purchases need addressed They seem handling issuing new CC ampx200BMy question worth getting credit check done I think answer yes Also whatwho I use credit checkampx200BThanksFRAUD  Chase CC',\n",
       "       'I want start using Dollar Cost Averaging investments I hold 10 stocks put 100 per month stock The downside every trade I make would cost 495 platform I use Do ideas best way low amountsPlatform I use charge purchase ETFS I feel ETFS diluted sense I want pick best value stocks bunch themThanksDollar Cost Averaging Strategy CAN',\n",
       "       'Has anyone used app robinhood Is safe reliableHello im looking try hand bit investing',\n",
       "       'The Morning Risk Report Companies Turn Compliance Technology',\n",
       "       'Aruba releases wanted Venezuelan drug trafficker terrorist facilitator Hugo Carvajal',\n",
       "       'Of course credit would denied credit freeze wasnt lifted would hard pull affect credit score way Will hard credit pull affect credit score I credit freeze',\n",
       "       'Advanced Integrated Surveillance Can Help Banks Reputations Profits',\n",
       "       'HiI attempting refinance car loan I get accepted two companies handle I sign paperwork stuff like Also I get denied would affect status current loan company Sorry questions stupid want make sure I facts straight Attempting refinance car happens get accepteddenied',\n",
       "       'Im 21 year old trying build credit secured card bank currently 670 paying full month 1020% utilization 4 months I understand improving credit score take patience time would opening second card would probably unsecured cash back according credit karma help increasing number accounts lowering overall utilization protecting average age account get car loan something futureShould I open second credit card build credit',\n",
       "       'Hey everyone So rise apps like Robinhood wanting start getting investing I started wonder\\u200bHow one begin investing Is official website Do I join sort program go sort exchange program\\u200bWhats advantage investingtrading company fund versus app like Robinhood Is Robinhood considered real investing Or total scam opinion\\u200bIm curious hear thought along getting adviceopinionsAre investing apps legitimate investing options What proscons',\n",
       "       'Ive finally opened ROTH IRA Vanguard deposited 1000 Im 19 Im bit confused actually start investing thingsthe website layout bit confusing I buy Any step step instructions actually buy things  buy would appreciated Thank you!ETFs Bonds Mutual Funds',\n",
       "       'From Israel via London online binary options gambling scam traps thousands',\n",
       "       'Fake Viagra gang members sentenced largescale criminal enterprise',\n",
       "       'Charitable donations could diverted support terrorism regulator warns',\n",
       "       'Banking Enclave Andorra Shaken US Accusations',\n",
       "       'So Sunday night I came home work counted money put away put 50 bucks wallet spending money I guess point Sunday night even though I never left house wallet disappeared Ive searched every inch since sign I’m concerned 50 bucks I make back easily What I concerned fact drivers license social security card insurance card debit cards I’ve since cancelled loststolen outside house hands someone else I doMissing wallet several important documents inside I',\n",
       "       'Citigroups Mexican Operations Under Wider Scrutiny For Possible Money Laundering',\n",
       "       'I also really need build credit thats I want begin using card regularly figured using getting rewards wouldnt bad idea Is bad idea put regular purchases credit card long Im consistently paying Im planning paying completely end every month This leave little actual pocket cash I rarely use anyway',\n",
       "       'I recently applied approved second credit card I want know effects I get third soon getting one likely I approved Specifically I want know likely score drop due applying lots credit short amount time quickly credit score returngo long assume I making payments time keeping balancesutilization credit cards lowFinally even worth personalfinances opinion get 3rd credit cardampx200BAlso likely I get 3rd card second shows credit report I recent inquiries Credit Karma says I likely approved new card hasnt shown credit report yet inquiry Heres I Also welcoming personal finance advice I read sidebar longtime lurker ampx200BCreditEquifax 621Transunion 620Discover Card 2000 Limit carrying balance 100 I pay often I use Ill often make one payment week I keep balance low since I use purchases This started secured card Now unsecured 2000Capitol One 1000 Limit Balance 0 This currently reportampx200BStudent Loans 98KThese good standing I still 5 Marks 2015 late payments IDK whenif fall offI incomedriven repayment make extra payments 68% Loan 3400USD @ 34 %direct subsidized   2020USD @ 68% Direct unsubsidized   2340USD @ 386% Direct subsidized   250USD @ 386% Direct subsidized  thinking paying see  1752 @ 386% Direct Unsubsidized  Car LoanNote 6100 \\\\CLOSED\\\\] \\\\CHARGE OFF\\\\]This defaulted It repossessed charged I understand means bank given trying collect They never tried collect fact I much broke unable pay I defaulted Car sold auction mark remains account I opened account March 2012 6Yrs 5 months ago The account closed Feb 2015 I understand remain report 2022 assuming doesnt get sold collections Currently plan simply pay try negotiate follow debt collection validation procedure end collections I welcome anyone elses advice thisampx200BNational Credit Mgmt \\\\Debt collector tuition\\\\] \\\\CLOSED\\\\] \\\\Paid off\\\\]This carried balance 720 opened 2013 3 yrs  11moThis account paid I contacted request deletion denied Welcoming advice plan try call get removed persistent anyone experience company I would love info I tried offer pay delete understand legally allowed FCRAampx200BDebt Collector 448 \\\\Open\\\\] \\\\Validated\\\\] This opened 2015 This old cellular bill I sent validation letter validated debt At point I called negotiate interested pay delete wanted full amount They tried contact My plan call try negotiate another agent I get reasonable offer Id like know effect would score I simply paid well I willing doampx200BAgain I welcome advice I state however time I unwilling pay Car Note unless take action My score high enough seems like diminishing returns pay much amount wont removed score However I absolutely open counter arguments willing mind changedampx200BI also considering possibility simply phoning discover asking credit limit increase Since oldest credit card wouldnt give higher amount aged credit ampx200B Thank readingWill getting another credit card help credit score long run',\n",
       "       'Hi I recently signed take CAMS exam I pay wondering anybody knows anywhere get additional sample questions free InternetI really struggle learn reading find much easier answer tonnes questionsIm better numbers formulas etc problem struggling get study done information stick going chapters ACAMS exam Any help would appreciatedThanks!CAMS certificate study questions',\n",
       "       'So I currently taking first two years community college I live parents take care living expenses I need pay car I well taken care Unfortunately closest school state school offers program I want information technology city several hours away meaning Ill move This means Ill leave everything including job Ill school job essentially way pay Ill hopefully around 2k savings The school states 201819 cost attendance 25k takes account personal expenses health insurance car costs room amp board etc Should I set student loans pay essentially setting initial 50k debt I race parttime job area quick possible Once I move I wont support parents write Im afraid idea racking 50k debt even IT good field Thanks help Will move several hours away 4year school I need student loans afford living costs',\n",
       "       'Hey allIm approaching 2 years experience AMLBSA  + 2 years Law enforcement CAMS experience foreign bank large international footprint focuses correspondant investment B2B government private banking I focus TM alerts BSA investigations OFAC transaction verification lookback projectsIm looking tips finding consultant job isnt 100% travel anything 2550% 75% odd job projects This kinda rules Big 4 like Does anyone name interesting firm search list criteria job site etc may help find positionsLocation flexible Atlanta Charlotte NY Chicago anything reallyThanks!Any leadstipsadvice AMLBSA consultant 50% ish travel Im getting back market!',\n",
       "       'Howdy allIm trying figure Im making reasonable choice I getting married next year rad I considering getting rewards card rack points Im paying wedding I credit card debt decent credit The card Im looking fees first year gives 50000 points I spend 3000 3 months easy wedding expenses travelDoes seem like good idea Ive credit debt past I could really use reward miles honeymoon travelCredit card rewards',\n",
       "       'Source Wealth Home Alone Dad Is dad Home Alone money launderer',\n",
       "       'The land probably worth 10k  15k acre judging listings area I considering using equity land one two things Collateral payment construction loan build small house property Collateral payment mortgage sure possible notAny advice one options additional options I may aware would greatly appreciated Just inherited 5 acres land country',\n",
       "       'Fiji police seize heroin worth 185m quad bike tyres',\n",
       "       'I receive money allow pay balance car loan I 401k combined less 2500 My question I intend take new loan 401k pay collections medical I order start cleaning credit purchase house My questions Is certain time month I ensure fast reporting credit report Also certain percentage I offer settlement amount debtsAny advice would much appreciated financiallysavvy I not! Needing advice paying debt',\n",
       "       'I bought fiances ring credit card 0% interest financing option jewelry store Its purchase Ive used I made final payment right 0% interest ended What I nowShould I close credit card I used',\n",
       "       'Hello! Throwaway account I use full name normal account I hope right place post When I applied college I made mistake forgetting send noncustodial CSS form college I divorced parents one I live passed away The college said I longer eligible sort scholarships outside federal aid I choice going expensive good school much cheaper state school I going choose latter family convinced go expensive school I would paying 75k year job prospects would much better I understand however 100% decision albeit naive one The loan mothers name I Expected Family Contribution 0That two years ago took gap year I enter sophomore year expecting 300k debt time I graduate likely lifetime debt I currently studying law school hoping I pull perfect grades LSAT scores I fully capable I get full ride T14 law school come 100k+ entry level salaryI wondering anything I I understand weight situation hope make best seems lifetime crushing debt TLDR Im paying 75k year school planning going law school wondering theres anything help outStarting sophomore year college paying 75k year',\n",
       "       'NiceMoney',\n",
       "       'Andorra takes private bank money laundering concerns',\n",
       "       'ISDAfixing Felonies',\n",
       "       'Casino Exec Says Regulations Make Impossible Launder Money Through Canadian Casinos',\n",
       "       'Australia property sector needs money laundering safeguards report',\n",
       "       'Falciani Says He Can Prove HSBC Management Knew Tax Abuses',\n",
       "       'Hello I curious best benefit regards Roth vs Traditional retirement accounts  I work large city make 60k year year 1 year 10 I around 125k mostly COLA raises post  At retirement around year 20 25 I extremely stable pensionabove 99% funded pay 75% average salary 5 highest earned yearsI currently 25000 traditional IRA 25000 Roth IRA 20000 HSA 16000 emergency fund around 60k misc investmentsI option 457 work offers Roth Traditional investment options  In addition I want continue contributing maximum IRAIm leaning towards Roth due tax breaks thinking lowest tax rate ever I think taxes raised significantly sometime future countrys debtRoth Traditional',\n",
       "       'As Bitcoin prices rose 1000 19000 Ethereum 8 715 Ripple XRP 00064 379 12 months I found wondering true What story behind obscene gains Is wonder drug promising immortality mankind',\n",
       "       'Fake online stores reveal gamblers shadow banking system',\n",
       "       'Been wanting save good amount money pc I want build I lack whatever people spend little extra cash bills paid  I usually end using can’t save anything Any advice limit pointless spending Or what’s incentive spend extra dough Best way force saving something want',\n",
       "       'France ends investigation HSBCs Swiss bank eyes first trial',\n",
       "       'I year first job college got 20% raise past month Im seeking advice handle extra cash 1k extra month tax After reading sidebar I thinking Roth IRA best action wanted get second opinion Details followAge 23Income           ~4200 per monthExpenses Total Avg           ~1600 per monthDebts                None drive beater worked 40+ hrsweek throughout undergrad pay outright          2 Credit Cards balance kept eitherSavings             8k emergency fund            20k HYSA            3k Roth 401k            5k Bonds Dont mature another 5 yearsI contribute 6% paycheck employer matched 50% match 6% Roth 401kAs I said Im thinking opening Roth IRA Im open optionsopinions maybe adding emergency fundThanks reading Investment Allocations 20s Raise',\n",
       "       'What implications parent adding joint owner GICs  This Canada  Parent elderly  I told advantage probate doesn’t apply joint ownership situation Other jointly claiming interest paid GICs negative tax implications implications   Will I claim half amount GICs income  Joint ownership GICs  Canada',\n",
       "       'Imagine future cash doesn’t exist',\n",
       "       'Forfeiture Necessary Tool Combat Money Laundering',\n",
       "       'A bit background Because student loans paying time history extensive I credit score right around 600 depending bureau look I process building credit loans date I Capital One Platinum credit card wondering I using credit card every day purchases paying immediately Is detrimental wayEdit Wow! Thanks great advice Ive lurking sub long time amazed great community isShould I use credit card everyday purchases',\n",
       "       'Basically I thought I could mortgage approved I close week mortgage amount little double applicants combined income I wanted card mainly get better cash back rate furniture gave amount thats much higher neededIm calling cancel new card right Is anything else I doampx200BEdit I fucked cancelled card reading replies FMLI super stupid thing applied credit card home closed I',\n",
       "       'I went emergency room recently I received bill soon insurance covered around 75% A days later I received different bill another company asking pay emergency physicians assistant say involved treating Heres whats weird The name suspicious Its name neighborhood I treated Emergency Physicians like I treated Brooklyn companys name Williamsburg Emergency Physicians address another state entirely I remember names two people treated unusual name physician bill neither There another woman room briefly though could The bill specifically states call hospital I treated I questions lists 800 number call company directly They attempt bill insurance Starting around time Ive getting weird phone calls spoofed numbers theyre clearly trying get say yes things Like asking someone whos saying want take list answer yes So question seem real I ensure Thanks much time everyone Is scam legitimate medical debt How I find sure',\n",
       "       'This bill needs laundering',\n",
       "       'For first half year I working retail store I Quit got job 3 weeks later I contract work contractsRfun I go ITsolutionsRKool work I’m 1099 I’m w2 I’ve contractor 2 months like performance I’m hired permanently ITsolutionsRKool I won’t going contractsRfun anymore Well mean I’m going 3 W2sOne retail store I worked end May One contract agency I hired One company hired permanently  If I’m contractor I get hired full time I two W2s',\n",
       "       'I work smaller startup employer switching mileage reimbursement 545 per mile blanket credit card used gas purchases within reason  At present Im driving roughly 800 reimbursed miles month another 1000 1500 personal use monthly  My total gas budget 300400 month I see mostly break even benefit 800 mile monthly tour pretty regular rather filing reimbursement monthly I simply keep cash pocket  My question tax obligations I log work miles record I expect gas card benefit gt IRS mileage rate  work miles event I obligation consider gas benefit taxable income Does getting gas benefit instead mileage reimbursement mean ALL benefit taxable case I would worse Im confused I appreciate help    Employer switching mileage reimbursement',\n",
       "       'I opened 2 new credit cards churn added authorized user player 2s I get cards start spendingcheck credit score I went amazing 826 732 It took years get perfect Will bounce back quickly take foreverCredit Score Dropped 94 points normal',\n",
       "       'Looking cold hard insight pf hive mind make sure reckless Heres situation couple 31 making 60k spouse currently jobs factoring income  hopefully  new job appears bonus money want budget work income I guaranteed least 10% raise next six years union contract employer sets stone Most extra money go progressively increasing 401k contributions moment I put aside 5% ensure I unlock maximum employer match We debt Monthly takehome pay taxes retirement deductions insurance premiums etc 3600 Once expenses accounted left 5001000 savings monthOur current rent 1350 1br apartment lowaverage area safe near work low commute  one car gets driven ~10 miles per week mostly grocery store I walk work saves gas wear tear We want buy house area 1 really love 2 great school district start family next years 3 houses arent substantially cheaper parts metro except unsafeundesirable areasThrough combination many years saving recent inheritance money 120k available payment closing costs upfront housing expenses plus 50k emergency savings wont touch House prices low 200ks old often disrepaired homes around 1k15k square feet The advantage buying home monthly costs including taxes home insurance would equal lower current rent ~100k payment  house 200k 250k would monthly payment 1000 1350 current 30year interest rates 455%IF stretch 275k300k range much nicer options become available newer homes wellmaintained often upgraded interiors square footage closer 2000 However even 100k would push mortgage payment 14001700 range  substantial increase current housing costs without even factoring higher utility bills home maintenance compared rented apartmentSo  apologies long backstory  question think would unwise go higher priced homes 300k whether cons lower financial wiggle room would outweigh pros much nicer home Or think pause home ownership plans save even larger payment could afford higherpriced homes monthly payment comparable current rentCan afford 300k house budget',\n",
       "       'I’m buying new car soon After ton research I found exact makemodeltrim I want However I couldn’t get price close enough I want finance I afford much I’m cheap! The day test driving salesman I bought current vehicle 7 years ago called told manufacturer offering huge rebate balloon purchase  He works used sales didn’t info immediately The rebate 5100 brings lower finance amount goal He told first payment I need refinance That way turns regular car loan I get discounted price He said doesn’t really benefit dealership can’t penalize refinancing Does anyone experience I called financing company asked thought sounded good Any comments would appreciated Balloon finance car immediately refinance',\n",
       "       'We purchased first home 2 years ago FHA 200000 loan  Due terrible changes made FHA MIP insurance lasts full lifetime loan 30 years  I know overpay mortgage reduce lifetime loan wanted look possible refinance erase cost  Our current interest 4%I went place requested offer came back 6% interest course additional costs FHA  This would similar loan 85% value home How I get rate enough worth  I make money  I increased credit score ~125 points 772781 3 credit scores  The mortgage rates touch higher greatly increased  Have I paid mortgage enough yet need come back years  Are underwriters ripping purposefully offering rate decline loanHow get good refinancing rate mortgage',\n",
       "       'First time posting also ESL excuse lack terminologyFor context I 21 living parents Hungary CentralEast Europe After graduating high school I attended 2year vocational course Ive applied University got acceptedSince I filed application summer I couldnt get tuition grants therefore pay feesI wouldnt want parents make tough choices regarding finances could barely afford pay tuition feesOn hand adamantly opposed idea getting students loan I feel like thing pride  Ive tried explaining interest rates wont give inHow could I try convince themConvincing parents let take students loan HU',\n",
       "       'Thai banks report B500k transactions counter money laundering',\n",
       "       'Crime banks threat national security says UKs National Crime Agency boss Keith Bristow'],\n",
       "      dtype=object)"
      ]
     },
     "execution_count": 103,
     "metadata": {},
     "output_type": "execute_result"
    }
   ],
   "source": [
    "X_test"
   ]
  },
  {
   "cell_type": "code",
   "execution_count": 85,
   "metadata": {},
   "outputs": [],
   "source": [
    "# new_x_train_marks = []\n",
    "# for entry in X_train:\n",
    "#     new_x_train_marks.append(entry[0])"
   ]
  },
  {
   "cell_type": "code",
   "execution_count": 109,
   "metadata": {},
   "outputs": [],
   "source": [
    "# vectorize interact feature:\n",
    "vectorizer = CountVectorizer(analyzer = \"word\",   \\\n",
    "                             tokenizer = None,    \\\n",
    "                             preprocessor = None, \\\n",
    "                             stop_words = None,   \\\n",
    "                             lowercase = False,\n",
    "                             max_features = 5000) \n",
    "\n",
    "\n",
    "vectorizer.fit(X_train)\n",
    "X_train_vec = vectorizer.transform(X_train)\n",
    "\n",
    "X_test_vec = vectorizer.transform(X_test)\n",
    "#test_data_features = vectorizer.transform(X_test)"
   ]
  },
  {
   "cell_type": "code",
   "execution_count": 87,
   "metadata": {},
   "outputs": [],
   "source": [
    "clf = RandomForestClassifier(n_jobs=2, random_state=0)"
   ]
  },
  {
   "cell_type": "code",
   "execution_count": 88,
   "metadata": {
    "scrolled": true
   },
   "outputs": [
    {
     "data": {
      "text/plain": [
       "(1438, 5000)"
      ]
     },
     "execution_count": 88,
     "metadata": {},
     "output_type": "execute_result"
    }
   ],
   "source": [
    "X_train_vec.shape"
   ]
  },
  {
   "cell_type": "code",
   "execution_count": 143,
   "metadata": {
    "scrolled": true
   },
   "outputs": [],
   "source": [
    "feature_names = pd.DataFrame(X_train_vec.todense(), columns=vectorizer.get_feature_names()).head()"
   ]
  },
  {
   "cell_type": "code",
   "execution_count": 159,
   "metadata": {},
   "outputs": [
    {
     "data": {
      "text/plain": [
       "'dont'"
      ]
     },
     "execution_count": 159,
     "metadata": {},
     "output_type": "execute_result"
    }
   ],
   "source": [
    "zip(feature_names.columns[2399])"
   ]
  },
  {
   "cell_type": "code",
   "execution_count": 116,
   "metadata": {
    "scrolled": true
   },
   "outputs": [
    {
     "data": {
      "text/plain": [
       "RandomForestClassifier(bootstrap=True, class_weight=None, criterion='gini',\n",
       "            max_depth=None, max_features='auto', max_leaf_nodes=None,\n",
       "            min_impurity_decrease=0.0, min_impurity_split=None,\n",
       "            min_samples_leaf=1, min_samples_split=2,\n",
       "            min_weight_fraction_leaf=0.0, n_estimators=10, n_jobs=2,\n",
       "            oob_score=False, random_state=0, verbose=0, warm_start=False)"
      ]
     },
     "execution_count": 116,
     "metadata": {},
     "output_type": "execute_result"
    }
   ],
   "source": [
    "clf.fit(X_train_vec.todense(), y_train)"
   ]
  },
  {
   "cell_type": "code",
   "execution_count": 128,
   "metadata": {
    "scrolled": true
   },
   "outputs": [
    {
     "data": {
      "text/plain": [
       "array([1, 1, 1, 1, 1, 1, 1, 1, 1, 0, 1, 0, 0, 1, 1, 1, 0, 1, 0, 1, 0, 1,\n",
       "       1, 1, 0, 0, 0, 1, 1, 1, 0, 1, 0, 1, 1, 0, 0, 0, 0, 0, 0, 0, 0, 1,\n",
       "       0, 1, 0, 0, 1, 1, 1, 0, 0, 1, 1, 0, 0, 0, 1, 0, 1, 1, 0, 0, 0, 0,\n",
       "       0, 0, 0, 1, 1, 1, 1, 1, 1, 1, 1, 0, 1, 0, 1, 0, 0, 0, 0, 1, 0, 1,\n",
       "       0, 0, 1, 0, 0, 0, 0, 0, 1, 0, 0, 0, 0, 0, 0, 1, 0, 0, 0, 0, 0, 1,\n",
       "       0, 1, 1, 0, 0, 0, 0, 0, 0, 0, 1, 0, 0, 1, 0, 0, 1, 0, 0, 0, 0, 0,\n",
       "       0, 0, 1, 1, 0, 1, 0, 1, 1, 0, 1, 0, 0, 1, 1, 1, 1, 1, 1, 1, 1, 0,\n",
       "       1, 0, 0, 0, 1, 0, 1, 1, 1, 1, 1, 0, 0, 0, 1, 1, 1, 1, 1, 0, 0, 1,\n",
       "       0, 0, 0, 1, 1, 0, 0, 1, 0, 1, 0, 1, 1, 0, 0, 1, 0, 0, 1, 0, 1, 1,\n",
       "       0, 0, 0, 1, 0, 1, 1, 0, 1, 1, 1, 1, 1, 1, 0, 1, 1, 1, 1, 0, 0, 1,\n",
       "       0, 1, 0, 1, 0, 1, 1, 1, 0, 1, 0, 0, 0, 1, 1, 1, 1, 0, 1, 1, 0, 0,\n",
       "       0, 0, 1, 0, 0, 1, 1, 0, 1, 0, 1, 0, 1, 0, 0, 1, 0, 1, 0, 1, 1, 0,\n",
       "       1, 1, 1, 1, 1, 0, 0, 1, 0, 0, 0, 0, 0, 1, 0, 0, 1, 1, 1, 0, 0, 0,\n",
       "       0, 1, 0, 1, 1, 1, 1, 0, 0, 0, 1, 0, 0, 0, 1, 1, 1, 1, 0, 0, 0, 0,\n",
       "       1, 0, 0, 0, 0, 1, 0, 0, 0, 0, 0, 0, 1, 1, 1, 0, 0, 0, 1, 0, 0, 1,\n",
       "       0, 0, 1, 0, 1, 0, 1, 1, 1, 0, 1, 1, 1, 1, 0, 0, 0, 0, 1, 0, 1, 0,\n",
       "       0, 0, 0, 1, 0, 0, 1, 0, 1, 1, 0, 1, 1, 0, 0, 1, 1, 0, 1, 1, 0, 0,\n",
       "       1, 1, 1, 0, 0, 1, 0, 0, 1, 1, 1, 0, 1, 1, 1, 0, 1, 1, 0, 0, 1, 0,\n",
       "       1, 0, 0, 1, 0, 1, 0, 1, 0, 0, 0, 1, 0, 0, 1, 1, 0, 1, 1, 0, 0, 0,\n",
       "       1, 1, 0, 0, 0, 0, 0, 1, 1, 1, 0, 1, 0, 0, 0, 0, 1, 1, 1, 1, 0, 1,\n",
       "       0, 0, 0, 0, 0, 0, 1, 0, 1, 0, 0, 0, 1, 1, 1, 1, 1, 1, 0, 1, 1, 0,\n",
       "       1, 0, 0, 1, 1, 0, 0, 0, 1, 0, 0, 0, 0, 0, 0, 0, 1, 1], dtype=uint8)"
      ]
     },
     "execution_count": 128,
     "metadata": {},
     "output_type": "execute_result"
    }
   ],
   "source": [
    "# Apply Classifier To Test Data\n",
    "\n",
    "pred = clf.predict(X_test_vec)"
   ]
  },
  {
   "cell_type": "code",
   "execution_count": 133,
   "metadata": {},
   "outputs": [
    {
     "data": {
      "text/plain": [
       "array([[0. , 1. ],\n",
       "       [0. , 1. ],\n",
       "       [0. , 1. ],\n",
       "       [0. , 1. ],\n",
       "       [0. , 1. ],\n",
       "       [0.2, 0.8],\n",
       "       [0. , 1. ],\n",
       "       [0. , 1. ],\n",
       "       [0. , 1. ],\n",
       "       [0.8, 0.2]])"
      ]
     },
     "execution_count": 133,
     "metadata": {},
     "output_type": "execute_result"
    }
   ],
   "source": [
    "# View the predicted probabilities of the first 10 observations\n",
    "clf.predict_proba(X_test_vec)[:10]"
   ]
  },
  {
   "cell_type": "code",
   "execution_count": 142,
   "metadata": {},
   "outputs": [
    {
     "data": {
      "text/plain": [
       "array([ 729, 4549, 2399, ..., 3113, 3112,    0])"
      ]
     },
     "execution_count": 142,
     "metadata": {},
     "output_type": "execute_result"
    }
   ],
   "source": [
    "np.argsort(clf.feature_importances_)[::-1]"
   ]
  },
  {
   "cell_type": "code",
   "execution_count": 137,
   "metadata": {},
   "outputs": [
    {
     "data": {
      "text/plain": [
       "array([[236,   3],\n",
       "       [ 19, 222]])"
      ]
     },
     "execution_count": 137,
     "metadata": {},
     "output_type": "execute_result"
    }
   ],
   "source": [
    "from sklearn.metrics import confusion_matrix\n",
    "\n",
    "confusion_matrix(y_test, pred)"
   ]
  },
  {
   "cell_type": "markdown",
   "metadata": {},
   "source": [
    "#### Thought experiment: What is the baseline accuracy for this model?"
   ]
  },
  {
   "cell_type": "code",
   "execution_count": null,
   "metadata": {},
   "outputs": [],
   "source": []
  },
  {
   "cell_type": "markdown",
   "metadata": {},
   "source": [
    "#### Create a `RandomForestClassifier` model to predict which subreddit a given post belongs to."
   ]
  },
  {
   "cell_type": "code",
   "execution_count": null,
   "metadata": {},
   "outputs": [],
   "source": [
    "# created above.\n"
   ]
  },
  {
   "cell_type": "markdown",
   "metadata": {},
   "source": [
    "#### Use cross-validation in scikit-learn to evaluate the model above. \n",
    "- Evaluate the accuracy of the model, as well as any other metrics you feel are appropriate. \n",
    "- **Bonus**: Use `GridSearchCV` with `Pipeline` to optimize your `CountVectorizer`/`TfidfVectorizer` and classification model."
   ]
  },
  {
   "cell_type": "code",
   "execution_count": null,
   "metadata": {},
   "outputs": [],
   "source": []
  },
  {
   "cell_type": "markdown",
   "metadata": {},
   "source": [
    "#### Repeat the model-building process using a different classifier (e.g. `MultinomialNB`, `LogisticRegression`, etc)"
   ]
  },
  {
   "cell_type": "code",
   "execution_count": null,
   "metadata": {},
   "outputs": [],
   "source": []
  },
  {
   "cell_type": "markdown",
   "metadata": {},
   "source": [
    "# Executive Summary\n",
    "---\n",
    "Put your executive summary in a Markdown cell below."
   ]
  },
  {
   "cell_type": "code",
   "execution_count": null,
   "metadata": {},
   "outputs": [],
   "source": []
  }
 ],
 "metadata": {
  "kernelspec": {
   "display_name": "Python [conda env:dsi]",
   "language": "python",
   "name": "conda-env-dsi-py"
  },
  "language_info": {
   "codemirror_mode": {
    "name": "ipython",
    "version": 3
   },
   "file_extension": ".py",
   "mimetype": "text/x-python",
   "name": "python",
   "nbconvert_exporter": "python",
   "pygments_lexer": "ipython3",
   "version": "3.6.5"
  }
 },
 "nbformat": 4,
 "nbformat_minor": 2
}
